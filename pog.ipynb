{
 "cells": [
  {
   "cell_type": "code",
   "execution_count": 1,
   "metadata": {},
   "outputs": [],
   "source": [
    "import re\n",
    "from nltk.collocations import TrigramCollocationFinder"
   ]
  },
  {
   "cell_type": "code",
   "execution_count": 2,
   "metadata": {},
   "outputs": [],
   "source": [
    "def preprocess_train(text):\n",
    "    text = text.lower() \n",
    "    text = re.sub(' {2}', ' ', text)\n",
    "    text = re.sub(r'\\n', '  ', text)\n",
    "    text = re.sub(r'[\\d%,)•($:]', '', text)             \n",
    "    return text"
   ]
  },
  {
   "cell_type": "code",
   "execution_count": 3,
   "metadata": {},
   "outputs": [
    {
     "data": {
      "text/plain": [
       "'archivo = carpeta / \"deu_tst.txt\"\\nwith open(archivo, \"r\", encoding=\"utf-8\") as f:\\n    texto = f.read()\\n    texto = preproces_test(texto)\\n    print(texto)\\n    contador_salida = 1\\n    #for line in texto:\\n    archivo_salida = carpeta / f\"{archivo.stem}_{contador_salida}.txt\"\\n    with archivo_salida.open(\"w\", encoding=\"utf-8\") as f:\\n        f.write(texto)\\n        contador_salida += 1'"
      ]
     },
     "execution_count": 3,
     "metadata": {},
     "output_type": "execute_result"
    }
   ],
   "source": [
    "from pathlib import Path\n",
    "carpeta = Path(\"C:\\AI4\\PLH\\Language-detection\")\n",
    "\n",
    "def preproces_test(text):\n",
    "    text = preprocess_train(text)\n",
    "    text = re.split(r'\\s{3,}', text.strip())\n",
    "    text = [f\"  {text.strip()}  \" for text in text]  # Afegeix dos espais al principi i al final\n",
    "    return text\n",
    "\n",
    "#for archivo in carpeta.glob(\"*_tst.txt\"):\n",
    "'''archivo = carpeta / \"deu_tst.txt\"\n",
    "with open(archivo, \"r\", encoding=\"utf-8\") as f:\n",
    "    texto = f.read()\n",
    "    texto = preproces_test(texto)\n",
    "    print(texto)\n",
    "    contador_salida = 1\n",
    "    #for line in texto:\n",
    "    archivo_salida = carpeta / f\"{archivo.stem}_{contador_salida}.txt\"\n",
    "    with archivo_salida.open(\"w\", encoding=\"utf-8\") as f:\n",
    "        f.write(texto)\n",
    "        contador_salida += 1'''\n",
    "        \n"
   ]
  },
  {
   "cell_type": "code",
   "execution_count": 4,
   "metadata": {},
   "outputs": [],
   "source": [
    "def find_parameters(text):\n",
    "    finder = TrigramCollocationFinder.from_words(text)\n",
    "    dic = {}# Las ci ocurrencias del trigrama es el valor en el diccionario\n",
    "    N = 0\n",
    "    for k, v in finder.ngram_fd.items(): # N supongo qu es la suma de todos los valores de las claves del diccionario \n",
    "        if v >= 5:\n",
    "            dic[k] = v\n",
    "            N += v    #==================================\n",
    "    B = len(dic)\n",
    "    return [B, N, dic]\n",
    "    "
   ]
  },
  {
   "cell_type": "code",
   "execution_count": 5,
   "metadata": {},
   "outputs": [],
   "source": [
    "from math import log\n",
    "\n",
    "def lindstone(sentence, c_train, B_train, N_train):\n",
    "    lamda = 0.05\n",
    "    prob_acum = 0\n",
    "    finder = TrigramCollocationFinder.from_words(sentence)\n",
    "\n",
    "    for n in finder.ngram_fd.items():\n",
    "        grama = n[0]\n",
    "        #freq = c_train[grama]\n",
    "        if grama in c_train:\n",
    "            freq = c_train[grama]\n",
    "        else:\n",
    "            freq = 0  # O un altre valor que tingui sentit\n",
    "        prob_acum += log(freq + lamda) / (N_train + B_train * lamda)\n",
    "    return prob_acum\n",
    "\n",
    "############# hay que desacer el log posteriormente?\n",
    "############# tenemos que comprobar todos los tests con todos los train de todos los idiomas? SÍ"
   ]
  },
  {
   "cell_type": "code",
   "execution_count": 6,
   "metadata": {},
   "outputs": [],
   "source": [
    "Param_lang = {}"
   ]
  },
  {
   "cell_type": "code",
   "execution_count": 7,
   "metadata": {},
   "outputs": [],
   "source": [
    "def train(l1, l2):\n",
    "    #l1 lista de srings de nombres de ficheros (o direcciones donde se encuentra el fichero, tambien str)\n",
    "    # l2 lista de nombres de idioma a la que pertenece cada fichero\n",
    "    # len(l1) == len(l2)\n",
    "    for i in range(len(l1)):\n",
    "        with open(l1[i], 'r', encoding='utf-8') as f:\n",
    "            raw_text = f.read()\n",
    "        prep_text = preprocess_train(raw_text)\n",
    "        Param_lang[l2[i]] = find_parameters(prep_text)\n",
    "        \n"
   ]
  },
  {
   "cell_type": "code",
   "execution_count": 8,
   "metadata": {},
   "outputs": [],
   "source": [
    "def predict(test_files):\n",
    "    #test_files lista de strings de fichero de test\n",
    "    Files_classified = [None]*len(test_files)\n",
    "    Files_origin = []\n",
    "    \n",
    "    for t in range(len(test_files)):\n",
    "        with open(test_files[t], 'r', encoding='utf-8') as f:\n",
    "            raw_test = f.read()\n",
    "\n",
    "        prep_test = preproces_test(raw_test)\n",
    "        #sentences = prep_test.split(\"  \") #suponiendo que funciona que cada oracion esta separada por solo 2 espacios\n",
    "        D_answer = {}\n",
    "        Answer = [None]*len(prep_test)\n",
    "        for s in range(len(prep_test)):\n",
    "            for k in Param_lang.keys():\n",
    "                l = Param_lang[k]\n",
    "                B = l[0]\n",
    "                N = l[1]\n",
    "                c = l[2]\n",
    "                prob = lindstone(prep_test[s], c, B, N)\n",
    "                D_answer[k] = prob\n",
    "            Answer[s] = max(D_answer, key=D_answer.get)\n",
    "            Files_origin.append(test_files[t][:3])\n",
    "        Files_classified[t] = Answer\n",
    "    return Files_classified, Files_origin"
   ]
  },
  {
   "cell_type": "code",
   "execution_count": 9,
   "metadata": {},
   "outputs": [],
   "source": [
    "train_files = ['eng_trn.txt', 'spa_trn.txt', 'fra_trn.txt', 'ita_trn.txt', 'deu_trn.txt', 'nld_trn.txt']\n",
    "lang_of_train_f = ['eng', 'spa', 'fra', 'ita', 'deu', 'nld']\n",
    "train(train_files, lang_of_train_f)"
   ]
  },
  {
   "cell_type": "code",
   "execution_count": 10,
   "metadata": {},
   "outputs": [],
   "source": [
    "test_files =['eng_tst.txt', 'ita_tst.txt', 'fra_tst.txt', 'spa_tst.txt', 'deu_tst.txt', 'nld_tst.txt']\n",
    "#Class_matrix = predict(test_files)"
   ]
  },
  {
   "cell_type": "code",
   "execution_count": 11,
   "metadata": {},
   "outputs": [
    {
     "name": "stdout",
     "output_type": "stream",
     "text": [
      "Accuracy: 0.9610\n"
     ]
    },
    {
     "data": {
      "image/png": "[encoded data removed]",
      "text/plain": [
       "<Figure size 600x400 with 2 Axes>"
      ]
     },
     "metadata": {},
     "output_type": "display_data"
    }
   ],
   "source": [
    "from sklearn.metrics import accuracy_score, confusion_matrix\n",
    "import seaborn as sns\n",
    "import matplotlib.pyplot as plt\n",
    "\n",
    "Files_classified, Files_origin = predict(test_files)\n",
    "\n",
    "# 1️⃣ Convertimos `Files_classified` (lista de listas) en una sola lista `y_pred`\n",
    "y_pred = [pred for sublist in Files_classified for pred in sublist]\n",
    "\n",
    "# 2️⃣ Expandimos `y_true` para que coincida con `y_pred`\n",
    "y_true = Files_origin\n",
    "\n",
    "# 3️⃣ Calcular Accuracy\n",
    "accuracy = accuracy_score(y_true, y_pred)\n",
    "print(f\"Accuracy: {accuracy:.4f}\")\n",
    "\n",
    "# 4️⃣ Generar Matriz de Confusión\n",
    "labels = sorted(set(y_true))  # Ordenar etiquetas únicas\n",
    "conf_matrix = confusion_matrix(y_true, y_pred, labels=labels)\n",
    "\n",
    "# 5️⃣ Visualizar la Matriz de Confusión\n",
    "plt.figure(figsize=(6, 4))\n",
    "sns.heatmap(conf_matrix, annot=True, fmt=\"d\", cmap=\"Blues\", xticklabels=labels, yticklabels=labels)\n",
    "plt.xlabel(\"Predicción\")\n",
    "plt.ylabel(\"Real\")\n",
    "plt.title(\"Matriz de Confusión\")\n",
    "plt.show()\n"
   ]
  }
 ],
 "metadata": {
  "kernelspec": {
   "display_name": "Python 3",
   "language": "python",
   "name": "python3"
  },
  "language_info": {
   "codemirror_mode": {
    "name": "ipython",
    "version": 3
   },
   "file_extension": ".py",
   "mimetype": "text/x-python",
   "name": "python",
   "nbconvert_exporter": "python",
   "pygments_lexer": "ipython3",
   "version": "3.11.5"
  }
 },
 "nbformat": 4,
 "nbformat_minor": 2
}
