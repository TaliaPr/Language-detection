{
 "cells": [
  {
   "cell_type": "code",
   "execution_count": 30,
   "metadata": {},
   "outputs": [],
   "source": [
    "import nltk\n",
    "import random\n",
    "from nltk.corpus import movie_reviews as mr\n",
    "from sklearn.feature_extraction.text import CountVectorizer"
   ]
  },
  {
   "cell_type": "markdown",
   "metadata": {},
   "source": [
    "Mirar como es el fichero:"
   ]
  },
  {
   "cell_type": "code",
   "execution_count": 31,
   "metadata": {},
   "outputs": [
    {
     "name": "stdout",
     "output_type": "stream",
     "text": [
      "2000\n",
      "['films', 'adapted', 'from', 'comic', 'books', 'have', ...]\n",
      "['neg', 'pos']\n",
      "['pos/cv000_29590.txt', 'pos/cv001_18431.txt', 'pos/cv002_15918.txt', 'pos/cv003_11664.txt', 'pos/cv004_11636.txt', 'pos/cv005_29443.txt', 'pos/cv006_15448.txt', 'pos/cv007_4968.txt', 'pos/cv008_29435.txt', 'pos/cv009_29592.txt', 'pos/cv010_29198.txt', 'pos/cv011_12166.txt', 'pos/cv012_29576.txt', 'pos/cv013_10159.txt', 'pos/cv014_13924.txt', 'pos/cv015_29439.txt', 'pos/cv016_4659.txt', 'pos/cv017_22464.txt', 'pos/cv018_20137.txt', 'pos/cv019_14482.txt', 'pos/cv020_8825.txt', 'pos/cv021_15838.txt', 'pos/cv022_12864.txt', 'pos/cv023_12672.txt', 'pos/cv024_6778.txt', 'pos/cv025_3108.txt', 'pos/cv026_29325.txt', 'pos/cv027_25219.txt', 'pos/cv028_26746.txt', 'pos/cv029_18643.txt', 'pos/cv030_21593.txt', 'pos/cv031_18452.txt', 'pos/cv032_22550.txt', 'pos/cv033_24444.txt', 'pos/cv034_29647.txt', 'pos/cv035_3954.txt', 'pos/cv036_16831.txt', 'pos/cv037_18510.txt', 'pos/cv038_9749.txt', 'pos/cv039_6170.txt', 'pos/cv040_8276.txt', 'pos/cv041_21113.txt', 'pos/cv042_10982.txt', 'pos/cv043_15013.txt', 'pos/cv044_16969.txt', 'pos/cv045_23923.txt', 'pos/cv046_10188.txt', 'pos/cv047_1754.txt', 'pos/cv048_16828.txt', 'pos/cv049_20471.txt', 'pos/cv050_11175.txt', 'pos/cv051_10306.txt', 'pos/cv052_29378.txt', 'pos/cv053_21822.txt', 'pos/cv054_4230.txt', 'pos/cv055_8338.txt', 'pos/cv056_13133.txt', 'pos/cv057_7453.txt', 'pos/cv058_8025.txt', 'pos/cv059_28885.txt', 'pos/cv060_10844.txt', 'pos/cv061_8837.txt', 'pos/cv062_23115.txt', 'pos/cv063_28997.txt', 'pos/cv064_24576.txt', 'pos/cv065_15248.txt', 'pos/cv066_10821.txt', 'pos/cv067_19774.txt', 'pos/cv068_13400.txt', 'pos/cv069_10801.txt', 'pos/cv070_12289.txt', 'pos/cv071_12095.txt', 'pos/cv072_6169.txt', 'pos/cv073_21785.txt', 'pos/cv074_6875.txt', 'pos/cv075_6500.txt', 'pos/cv076_24945.txt', 'pos/cv077_22138.txt', 'pos/cv078_14730.txt', 'pos/cv079_11933.txt', 'pos/cv080_13465.txt', 'pos/cv081_16582.txt', 'pos/cv082_11080.txt', 'pos/cv083_24234.txt', 'pos/cv084_13566.txt', 'pos/cv085_1381.txt', 'pos/cv086_18371.txt', 'pos/cv087_1989.txt', 'pos/cv088_24113.txt', 'pos/cv089_11418.txt', 'pos/cv090_0042.txt', 'pos/cv091_7400.txt', 'pos/cv092_28017.txt', 'pos/cv093_13951.txt', 'pos/cv094_27889.txt', 'pos/cv095_28892.txt', 'pos/cv096_11474.txt', 'pos/cv097_24970.txt', 'pos/cv098_15435.txt', 'pos/cv099_10534.txt', 'pos/cv100_11528.txt', 'pos/cv101_10175.txt', 'pos/cv102_7846.txt', 'pos/cv103_11021.txt', 'pos/cv104_18134.txt', 'pos/cv105_17990.txt', 'pos/cv106_16807.txt', 'pos/cv107_24319.txt', 'pos/cv108_15571.txt', 'pos/cv109_21172.txt', 'pos/cv110_27788.txt', 'pos/cv111_11473.txt', 'pos/cv112_11193.txt', 'pos/cv113_23102.txt', 'pos/cv114_18398.txt', 'pos/cv115_25396.txt', 'pos/cv116_28942.txt', 'pos/cv117_24295.txt', 'pos/cv118_28980.txt', 'pos/cv119_9867.txt', 'pos/cv120_4111.txt', 'pos/cv121_17302.txt', 'pos/cv122_7392.txt', 'pos/cv123_11182.txt', 'pos/cv124_4122.txt', 'pos/cv125_9391.txt', 'pos/cv126_28971.txt', 'pos/cv127_14711.txt', 'pos/cv128_29627.txt', 'pos/cv129_16741.txt', 'pos/cv130_17083.txt', 'pos/cv131_10713.txt', 'pos/cv132_5618.txt', 'pos/cv133_16336.txt', 'pos/cv134_22246.txt', 'pos/cv135_11603.txt', 'pos/cv136_11505.txt', 'pos/cv137_15422.txt', 'pos/cv138_12721.txt', 'pos/cv139_12873.txt', 'pos/cv140_7479.txt', 'pos/cv141_15686.txt', 'pos/cv142_22516.txt', 'pos/cv143_19666.txt', 'pos/cv144_5007.txt', 'pos/cv145_11472.txt', 'pos/cv146_18458.txt', 'pos/cv147_21193.txt', 'pos/cv148_16345.txt', 'pos/cv149_15670.txt', 'pos/cv150_12916.txt', 'pos/cv151_15771.txt', 'pos/cv152_8736.txt', 'pos/cv153_10779.txt', 'pos/cv154_9328.txt', 'pos/cv155_7308.txt', 'pos/cv156_10481.txt', 'pos/cv157_29372.txt', 'pos/cv158_10390.txt', 'pos/cv159_29505.txt', 'pos/cv160_10362.txt', 'pos/cv161_11425.txt', 'pos/cv162_10424.txt', 'pos/cv163_10052.txt', 'pos/cv164_22447.txt', 'pos/cv165_22619.txt', 'pos/cv166_11052.txt', 'pos/cv167_16376.txt', 'pos/cv168_7050.txt', 'pos/cv169_23778.txt', 'pos/cv170_3006.txt', 'pos/cv171_13537.txt', 'pos/cv172_11131.txt', 'pos/cv173_4471.txt', 'pos/cv174_9659.txt', 'pos/cv175_6964.txt', 'pos/cv176_12857.txt', 'pos/cv177_10367.txt', 'pos/cv178_12972.txt', 'pos/cv179_9228.txt', 'pos/cv180_16113.txt', 'pos/cv181_14401.txt', 'pos/cv182_7281.txt', 'pos/cv183_18612.txt', 'pos/cv184_2673.txt', 'pos/cv185_28654.txt', 'pos/cv186_2269.txt', 'pos/cv187_12829.txt', 'pos/cv188_19226.txt', 'pos/cv189_22934.txt', 'pos/cv190_27052.txt', 'pos/cv191_29719.txt', 'pos/cv192_14395.txt', 'pos/cv193_5416.txt', 'pos/cv194_12079.txt', 'pos/cv195_14528.txt', 'pos/cv196_29027.txt', 'pos/cv197_29328.txt', 'pos/cv198_18180.txt', 'pos/cv199_9629.txt', 'pos/cv200_2915.txt', 'pos/cv201_6997.txt', 'pos/cv202_10654.txt', 'pos/cv203_17986.txt', 'pos/cv204_8451.txt', 'pos/cv205_9457.txt', 'pos/cv206_14293.txt', 'pos/cv207_29284.txt', 'pos/cv208_9020.txt', 'pos/cv209_29118.txt', 'pos/cv210_9312.txt', 'pos/cv211_9953.txt', 'pos/cv212_10027.txt', 'pos/cv213_18934.txt', 'pos/cv214_12294.txt', 'pos/cv215_22240.txt', 'pos/cv216_18738.txt', 'pos/cv217_28842.txt', 'pos/cv218_24352.txt', 'pos/cv219_18626.txt', 'pos/cv220_29059.txt', 'pos/cv221_2695.txt', 'pos/cv222_17395.txt', 'pos/cv223_29066.txt', 'pos/cv224_17661.txt', 'pos/cv225_29224.txt', 'pos/cv226_2618.txt', 'pos/cv227_24215.txt', 'pos/cv228_5806.txt', 'pos/cv229_13611.txt', 'pos/cv230_7428.txt', 'pos/cv231_10425.txt', 'pos/cv232_14991.txt', 'pos/cv233_15964.txt', 'pos/cv234_20643.txt', 'pos/cv235_10217.txt', 'pos/cv236_11565.txt', 'pos/cv237_19221.txt', 'pos/cv238_12931.txt', 'pos/cv239_3385.txt', 'pos/cv240_14336.txt', 'pos/cv241_23130.txt', 'pos/cv242_10638.txt', 'pos/cv243_20728.txt', 'pos/cv244_21649.txt', 'pos/cv245_8569.txt', 'pos/cv246_28807.txt', 'pos/cv247_13142.txt', 'pos/cv248_13987.txt', 'pos/cv249_11640.txt', 'pos/cv250_25616.txt', 'pos/cv251_22636.txt', 'pos/cv252_23779.txt', 'pos/cv253_10077.txt', 'pos/cv254_6027.txt', 'pos/cv255_13683.txt', 'pos/cv256_14740.txt', 'pos/cv257_10975.txt', 'pos/cv258_5792.txt', 'pos/cv259_10934.txt', 'pos/cv260_13959.txt', 'pos/cv261_10954.txt', 'pos/cv262_12649.txt', 'pos/cv263_19259.txt', 'pos/cv264_12801.txt', 'pos/cv265_10814.txt', 'pos/cv266_25779.txt', 'pos/cv267_14952.txt', 'pos/cv268_18834.txt', 'pos/cv269_21732.txt', 'pos/cv270_6079.txt', 'pos/cv271_13837.txt', 'pos/cv272_18974.txt', 'pos/cv273_29112.txt', 'pos/cv274_25253.txt', 'pos/cv275_28887.txt', 'pos/cv276_15684.txt', 'pos/cv277_19091.txt', 'pos/cv278_13041.txt', 'pos/cv279_18329.txt', 'pos/cv280_8267.txt', 'pos/cv281_23253.txt', 'pos/cv282_6653.txt', 'pos/cv283_11055.txt', 'pos/cv284_19119.txt', 'pos/cv285_16494.txt', 'pos/cv286_25050.txt', 'pos/cv287_15900.txt', 'pos/cv288_18791.txt', 'pos/cv289_6463.txt', 'pos/cv290_11084.txt', 'pos/cv291_26635.txt', 'pos/cv292_7282.txt', 'pos/cv293_29856.txt', 'pos/cv294_11684.txt', 'pos/cv295_15570.txt', 'pos/cv296_12251.txt', 'pos/cv297_10047.txt', 'pos/cv298_23111.txt', 'pos/cv299_16214.txt', 'pos/cv300_22284.txt', 'pos/cv301_12146.txt', 'pos/cv302_25649.txt', 'pos/cv303_27520.txt', 'pos/cv304_28706.txt', 'pos/cv305_9946.txt', 'pos/cv306_10364.txt', 'pos/cv307_25270.txt', 'pos/cv308_5016.txt', 'pos/cv309_22571.txt', 'pos/cv310_13091.txt', 'pos/cv311_16002.txt', 'pos/cv312_29377.txt', 'pos/cv313_18198.txt', 'pos/cv314_14422.txt', 'pos/cv315_11629.txt', 'pos/cv316_6370.txt', 'pos/cv317_24049.txt', 'pos/cv318_10493.txt', 'pos/cv319_14727.txt', 'pos/cv320_9530.txt', 'pos/cv321_12843.txt', 'pos/cv322_20318.txt', 'pos/cv323_29805.txt', 'pos/cv324_7082.txt', 'pos/cv325_16629.txt', 'pos/cv326_13295.txt', 'pos/cv327_20292.txt', 'pos/cv328_10373.txt', 'pos/cv329_29370.txt', 'pos/cv330_29809.txt', 'pos/cv331_8273.txt', 'pos/cv332_16307.txt', 'pos/cv333_8916.txt', 'pos/cv334_10001.txt', 'pos/cv335_14665.txt', 'pos/cv336_10143.txt', 'pos/cv337_29181.txt', 'pos/cv338_8821.txt', 'pos/cv339_21119.txt', 'pos/cv340_13287.txt', 'pos/cv341_24430.txt', 'pos/cv342_19456.txt', 'pos/cv343_10368.txt', 'pos/cv344_5312.txt', 'pos/cv345_9954.txt', 'pos/cv346_18168.txt', 'pos/cv347_13194.txt', 'pos/cv348_18176.txt', 'pos/cv349_13507.txt', 'pos/cv350_20670.txt', 'pos/cv351_15458.txt', 'pos/cv352_5524.txt', 'pos/cv353_18159.txt', 'pos/cv354_8132.txt', 'pos/cv355_16413.txt', 'pos/cv356_25163.txt', 'pos/cv357_13156.txt', 'pos/cv358_10691.txt', 'pos/cv359_6647.txt', 'pos/cv360_8398.txt', 'pos/cv361_28944.txt', 'pos/cv362_15341.txt', 'pos/cv363_29332.txt', 'pos/cv364_12901.txt', 'pos/cv365_11576.txt', 'pos/cv366_10221.txt', 'pos/cv367_22792.txt', 'pos/cv368_10466.txt', 'pos/cv369_12886.txt', 'pos/cv370_5221.txt', 'pos/cv371_7630.txt', 'pos/cv372_6552.txt', 'pos/cv373_20404.txt', 'pos/cv374_25436.txt', 'pos/cv375_9929.txt', 'pos/cv376_19435.txt', 'pos/cv377_7946.txt', 'pos/cv378_20629.txt', 'pos/cv379_21963.txt', 'pos/cv380_7574.txt', 'pos/cv381_20172.txt', 'pos/cv382_7897.txt', 'pos/cv383_13116.txt', 'pos/cv384_17140.txt', 'pos/cv385_29741.txt', 'pos/cv386_10080.txt', 'pos/cv387_11507.txt', 'pos/cv388_12009.txt', 'pos/cv389_9369.txt', 'pos/cv390_11345.txt', 'pos/cv391_10802.txt', 'pos/cv392_11458.txt', 'pos/cv393_29327.txt', 'pos/cv394_5137.txt', 'pos/cv395_10849.txt', 'pos/cv396_17989.txt', 'pos/cv397_29023.txt', 'pos/cv398_15537.txt', 'pos/cv399_2877.txt', 'pos/cv400_19220.txt', 'pos/cv401_12605.txt', 'pos/cv402_14425.txt', 'pos/cv403_6621.txt', 'pos/cv404_20315.txt', 'pos/cv405_20399.txt', 'pos/cv406_21020.txt', 'pos/cv407_22637.txt', 'pos/cv408_5297.txt', 'pos/cv409_29786.txt', 'pos/cv410_24266.txt', 'pos/cv411_15007.txt', 'pos/cv412_24095.txt', 'pos/cv413_7398.txt', 'pos/cv414_10518.txt', 'pos/cv415_22517.txt', 'pos/cv416_11136.txt', 'pos/cv417_13115.txt', 'pos/cv418_14774.txt', 'pos/cv419_13394.txt', 'pos/cv420_28795.txt', 'pos/cv421_9709.txt', 'pos/cv422_9381.txt', 'pos/cv423_11155.txt', 'pos/cv424_8831.txt', 'pos/cv425_8250.txt', 'pos/cv426_10421.txt', 'pos/cv427_10825.txt', 'pos/cv428_11347.txt', 'pos/cv429_7439.txt', 'pos/cv430_17351.txt', 'pos/cv431_7085.txt', 'pos/cv432_14224.txt', 'pos/cv433_10144.txt', 'pos/cv434_5793.txt', 'pos/cv435_23110.txt', 'pos/cv436_19179.txt', 'pos/cv437_22849.txt', 'pos/cv438_8043.txt', 'pos/cv439_15970.txt', 'pos/cv440_15243.txt', 'pos/cv441_13711.txt', 'pos/cv442_13846.txt', 'pos/cv443_21118.txt', 'pos/cv444_9974.txt', 'pos/cv445_25882.txt', 'pos/cv446_11353.txt', 'pos/cv447_27332.txt', 'pos/cv448_14695.txt', 'pos/cv449_8785.txt', 'pos/cv450_7890.txt', 'pos/cv451_10690.txt', 'pos/cv452_5088.txt', 'pos/cv453_10379.txt', 'pos/cv454_2053.txt', 'pos/cv455_29000.txt', 'pos/cv456_18985.txt', 'pos/cv457_18453.txt', 'pos/cv458_8604.txt', 'pos/cv459_20319.txt', 'pos/cv460_10842.txt', 'pos/cv461_19600.txt', 'pos/cv462_19350.txt', 'pos/cv463_10343.txt', 'pos/cv464_15650.txt', 'pos/cv465_22431.txt', 'pos/cv466_18722.txt', 'pos/cv467_25773.txt', 'pos/cv468_15228.txt', 'pos/cv469_20630.txt', 'pos/cv470_15952.txt', 'pos/cv471_16858.txt', 'pos/cv472_29280.txt', 'pos/cv473_7367.txt', 'pos/cv474_10209.txt', 'pos/cv475_21692.txt', 'pos/cv476_16856.txt', 'pos/cv477_22479.txt', 'pos/cv478_14309.txt', 'pos/cv479_5649.txt', 'pos/cv480_19817.txt', 'pos/cv481_7436.txt', 'pos/cv482_10580.txt', 'pos/cv483_16378.txt', 'pos/cv484_25054.txt', 'pos/cv485_26649.txt', 'pos/cv486_9799.txt', 'pos/cv487_10446.txt', 'pos/cv488_19856.txt', 'pos/cv489_17906.txt', 'pos/cv490_17872.txt', 'pos/cv491_12145.txt', 'pos/cv492_18271.txt', 'pos/cv493_12839.txt', 'pos/cv494_17389.txt', 'pos/cv495_14518.txt', 'pos/cv496_10530.txt', 'pos/cv497_26980.txt', 'pos/cv498_8832.txt', 'pos/cv499_10658.txt', 'pos/cv500_10251.txt', 'pos/cv501_11657.txt', 'pos/cv502_10406.txt', 'pos/cv503_10558.txt', 'pos/cv504_29243.txt', 'pos/cv505_12090.txt', 'pos/cv506_15956.txt', 'pos/cv507_9220.txt', 'pos/cv508_16006.txt', 'pos/cv509_15888.txt', 'pos/cv510_23360.txt', 'pos/cv511_10132.txt', 'pos/cv512_15965.txt', 'pos/cv513_6923.txt', 'pos/cv514_11187.txt', 'pos/cv515_17069.txt', 'pos/cv516_11172.txt', 'pos/cv517_19219.txt', 'pos/cv518_13331.txt', 'pos/cv519_14661.txt', 'pos/cv520_12295.txt', 'pos/cv521_15828.txt', 'pos/cv522_5583.txt', 'pos/cv523_16615.txt', 'pos/cv524_23627.txt', 'pos/cv525_16122.txt', 'pos/cv526_12083.txt', 'pos/cv527_10123.txt', 'pos/cv528_10822.txt', 'pos/cv529_10420.txt', 'pos/cv530_16212.txt', 'pos/cv531_26486.txt', 'pos/cv532_6522.txt', 'pos/cv533_9821.txt', 'pos/cv534_14083.txt', 'pos/cv535_19728.txt', 'pos/cv536_27134.txt', 'pos/cv537_12370.txt', 'pos/cv538_28667.txt', 'pos/cv539_20347.txt', 'pos/cv540_3421.txt', 'pos/cv541_28835.txt', 'pos/cv542_18980.txt', 'pos/cv543_5045.txt', 'pos/cv544_5108.txt', 'pos/cv545_12014.txt', 'pos/cv546_11767.txt', 'pos/cv547_16324.txt', 'pos/cv548_17731.txt', 'pos/cv549_21443.txt', 'pos/cv550_22211.txt', 'pos/cv551_10565.txt', 'pos/cv552_10016.txt', 'pos/cv553_26915.txt', 'pos/cv554_13151.txt', 'pos/cv555_23922.txt', 'pos/cv556_14808.txt', 'pos/cv557_11449.txt', 'pos/cv558_29507.txt', 'pos/cv559_0050.txt', 'pos/cv560_17175.txt', 'pos/cv561_9201.txt', 'pos/cv562_10359.txt', 'pos/cv563_17257.txt', 'pos/cv564_11110.txt', 'pos/cv565_29572.txt', 'pos/cv566_8581.txt', 'pos/cv567_29611.txt', 'pos/cv568_15638.txt', 'pos/cv569_26381.txt', 'pos/cv570_29082.txt', 'pos/cv571_29366.txt', 'pos/cv572_18657.txt', 'pos/cv573_29525.txt', 'pos/cv574_22156.txt', 'pos/cv575_21150.txt', 'pos/cv576_14094.txt', 'pos/cv577_28549.txt', 'pos/cv578_15094.txt', 'pos/cv579_11605.txt', 'pos/cv580_14064.txt', 'pos/cv581_19381.txt', 'pos/cv582_6559.txt', 'pos/cv583_29692.txt', 'pos/cv584_29722.txt', 'pos/cv585_22496.txt', 'pos/cv586_7543.txt', 'pos/cv587_19162.txt', 'pos/cv588_13008.txt', 'pos/cv589_12064.txt', 'pos/cv590_19290.txt', 'pos/cv591_23640.txt', 'pos/cv592_22315.txt', 'pos/cv593_10987.txt', 'pos/cv594_11039.txt', 'pos/cv595_25335.txt', 'pos/cv596_28311.txt', 'pos/cv597_26360.txt', 'pos/cv598_16452.txt', 'pos/cv599_20988.txt', 'pos/cv600_23878.txt', 'pos/cv601_23453.txt', 'pos/cv602_8300.txt', 'pos/cv603_17694.txt', 'pos/cv604_2230.txt', 'pos/cv605_11800.txt', 'pos/cv606_15985.txt', 'pos/cv607_7717.txt', 'pos/cv608_23231.txt', 'pos/cv609_23877.txt', 'pos/cv610_2287.txt', 'pos/cv611_21120.txt', 'pos/cv612_5461.txt', 'pos/cv613_21796.txt', 'pos/cv614_10626.txt', 'pos/cv615_14182.txt', 'pos/cv616_29319.txt', 'pos/cv617_9322.txt', 'pos/cv618_8974.txt', 'pos/cv619_12462.txt', 'pos/cv620_24265.txt', 'pos/cv621_14368.txt', 'pos/cv622_8147.txt', 'pos/cv623_15356.txt', 'pos/cv624_10744.txt', 'pos/cv625_12440.txt', 'pos/cv626_7410.txt', 'pos/cv627_11620.txt', 'pos/cv628_19325.txt', 'pos/cv629_14909.txt', 'pos/cv630_10057.txt', 'pos/cv631_4967.txt', 'pos/cv632_9610.txt', 'pos/cv633_29837.txt', 'pos/cv634_11101.txt', 'pos/cv635_10022.txt', 'pos/cv636_15279.txt', 'pos/cv637_1250.txt', 'pos/cv638_2953.txt', 'pos/cv639_10308.txt', 'pos/cv640_5378.txt', 'pos/cv641_12349.txt', 'pos/cv642_29867.txt', 'pos/cv643_29349.txt', 'pos/cv644_17154.txt', 'pos/cv645_15668.txt', 'pos/cv646_15065.txt', 'pos/cv647_13691.txt', 'pos/cv648_15792.txt', 'pos/cv649_12735.txt', 'pos/cv650_14340.txt', 'pos/cv651_10492.txt', 'pos/cv652_13972.txt', 'pos/cv653_19583.txt', 'pos/cv654_18246.txt', 'pos/cv655_11154.txt', 'pos/cv656_24201.txt', 'pos/cv657_24513.txt', 'pos/cv658_10532.txt', 'pos/cv659_19944.txt', 'pos/cv660_21893.txt', 'pos/cv661_2450.txt', 'pos/cv662_13320.txt', 'pos/cv663_13019.txt', 'pos/cv664_4389.txt', 'pos/cv665_29538.txt', 'pos/cv666_18963.txt', 'pos/cv667_18467.txt', 'pos/cv668_17604.txt', 'pos/cv669_22995.txt', 'pos/cv670_25826.txt', 'pos/cv671_5054.txt', 'pos/cv672_28083.txt', 'pos/cv673_24714.txt', 'pos/cv674_10732.txt', 'pos/cv675_21588.txt', 'pos/cv676_21090.txt', 'pos/cv677_17715.txt', 'pos/cv678_13419.txt', 'pos/cv679_28559.txt', 'pos/cv680_10160.txt', 'pos/cv681_9692.txt', 'pos/cv682_16139.txt', 'pos/cv683_12167.txt', 'pos/cv684_11798.txt', 'pos/cv685_5947.txt', 'pos/cv686_13900.txt', 'pos/cv687_21100.txt', 'pos/cv688_7368.txt', 'pos/cv689_12587.txt', 'pos/cv690_5619.txt', 'pos/cv691_5043.txt', 'pos/cv692_15451.txt', 'pos/cv693_18063.txt', 'pos/cv694_4876.txt', 'pos/cv695_21108.txt', 'pos/cv696_29740.txt', 'pos/cv697_11162.txt', 'pos/cv698_15253.txt', 'pos/cv699_7223.txt', 'pos/cv700_21947.txt', 'pos/cv701_14252.txt', 'pos/cv702_11500.txt', 'pos/cv703_16143.txt', 'pos/cv704_15969.txt', 'pos/cv705_11059.txt', 'pos/cv706_24716.txt', 'pos/cv707_10678.txt', 'pos/cv708_28729.txt', 'pos/cv709_10529.txt', 'pos/cv710_22577.txt', 'pos/cv711_11665.txt', 'pos/cv712_22920.txt', 'pos/cv713_29155.txt', 'pos/cv714_18502.txt', 'pos/cv715_18179.txt', 'pos/cv716_10514.txt', 'pos/cv717_15953.txt', 'pos/cv718_11434.txt', 'pos/cv719_5713.txt', 'pos/cv720_5389.txt', 'pos/cv721_29121.txt', 'pos/cv722_7110.txt', 'pos/cv723_8648.txt', 'pos/cv724_13681.txt', 'pos/cv725_10103.txt', 'pos/cv726_4719.txt', 'pos/cv727_4978.txt', 'pos/cv728_16133.txt', 'pos/cv729_10154.txt', 'pos/cv730_10279.txt', 'pos/cv731_4136.txt', 'pos/cv732_12245.txt', 'pos/cv733_9839.txt', 'pos/cv734_21568.txt', 'pos/cv735_18801.txt', 'pos/cv736_23670.txt', 'pos/cv737_28907.txt', 'pos/cv738_10116.txt', 'pos/cv739_11209.txt', 'pos/cv740_12445.txt', 'pos/cv741_11890.txt', 'pos/cv742_7751.txt', 'pos/cv743_15449.txt', 'pos/cv744_10038.txt', 'pos/cv745_12773.txt', 'pos/cv746_10147.txt', 'pos/cv747_16556.txt', 'pos/cv748_12786.txt', 'pos/cv749_17765.txt', 'pos/cv750_10180.txt', 'pos/cv751_15719.txt', 'pos/cv752_24155.txt', 'pos/cv753_10875.txt', 'pos/cv754_7216.txt', 'pos/cv755_23616.txt', 'pos/cv756_22540.txt', 'pos/cv757_10189.txt', 'pos/cv758_9671.txt', 'pos/cv759_13522.txt', 'pos/cv760_8597.txt', 'pos/cv761_12620.txt', 'pos/cv762_13927.txt', 'pos/cv763_14729.txt', 'pos/cv764_11739.txt', 'pos/cv765_19037.txt', 'pos/cv766_7540.txt', 'pos/cv767_14062.txt', 'pos/cv768_11751.txt', 'pos/cv769_8123.txt', 'pos/cv770_10451.txt', 'pos/cv771_28665.txt', 'pos/cv772_12119.txt', 'pos/cv773_18817.txt', 'pos/cv774_13845.txt', 'pos/cv775_16237.txt', 'pos/cv776_20529.txt', 'pos/cv777_10094.txt', 'pos/cv778_17330.txt', 'pos/cv779_17881.txt', 'pos/cv780_7984.txt', 'pos/cv781_5262.txt', 'pos/cv782_19526.txt', 'pos/cv783_13227.txt', 'pos/cv784_14394.txt', 'pos/cv785_22600.txt', 'pos/cv786_22497.txt', 'pos/cv787_13743.txt', 'pos/cv788_25272.txt', 'pos/cv789_12136.txt', 'pos/cv790_14600.txt', 'pos/cv791_16302.txt', 'pos/cv792_3832.txt', 'pos/cv793_13650.txt', 'pos/cv794_15868.txt', 'pos/cv795_10122.txt', 'pos/cv796_15782.txt', 'pos/cv797_6957.txt', 'pos/cv798_23531.txt', 'pos/cv799_18543.txt', 'pos/cv800_12368.txt', 'pos/cv801_25228.txt', 'pos/cv802_28664.txt', 'pos/cv803_8207.txt', 'pos/cv804_10862.txt', 'pos/cv805_19601.txt', 'pos/cv806_8842.txt', 'pos/cv807_21740.txt', 'pos/cv808_12635.txt', 'pos/cv809_5009.txt', 'pos/cv810_12458.txt', 'pos/cv811_21386.txt', 'pos/cv812_17924.txt', 'pos/cv813_6534.txt', 'pos/cv814_18975.txt', 'pos/cv815_22456.txt', 'pos/cv816_13655.txt', 'pos/cv817_4041.txt', 'pos/cv818_10211.txt', 'pos/cv819_9364.txt', 'pos/cv820_22892.txt', 'pos/cv821_29364.txt', 'pos/cv822_20049.txt', 'pos/cv823_15569.txt', 'pos/cv824_8838.txt', 'pos/cv825_5063.txt', 'pos/cv826_11834.txt', 'pos/cv827_18331.txt', 'pos/cv828_19831.txt', 'pos/cv829_20289.txt', 'pos/cv830_6014.txt', 'pos/cv831_14689.txt', 'pos/cv832_23275.txt', 'pos/cv833_11053.txt', 'pos/cv834_22195.txt', 'pos/cv835_19159.txt', 'pos/cv836_12968.txt', 'pos/cv837_27325.txt', 'pos/cv838_24728.txt', 'pos/cv839_21467.txt', 'pos/cv840_16321.txt', 'pos/cv841_3967.txt', 'pos/cv842_5866.txt', 'pos/cv843_15544.txt', 'pos/cv844_12690.txt', 'pos/cv845_14290.txt', 'pos/cv846_29497.txt', 'pos/cv847_1941.txt', 'pos/cv848_10036.txt', 'pos/cv849_15729.txt', 'pos/cv850_16466.txt', 'pos/cv851_20469.txt', 'pos/cv852_27523.txt', 'pos/cv853_29233.txt', 'pos/cv854_17740.txt', 'pos/cv855_20661.txt', 'pos/cv856_29013.txt', 'pos/cv857_15958.txt', 'pos/cv858_18819.txt', 'pos/cv859_14107.txt', 'pos/cv860_13853.txt', 'pos/cv861_1198.txt', 'pos/cv862_14324.txt', 'pos/cv863_7424.txt', 'pos/cv864_3416.txt', 'pos/cv865_2895.txt', 'pos/cv866_29691.txt', 'pos/cv867_16661.txt', 'pos/cv868_11948.txt', 'pos/cv869_23611.txt', 'pos/cv870_16348.txt', 'pos/cv871_24888.txt', 'pos/cv872_12591.txt', 'pos/cv873_18636.txt', 'pos/cv874_11236.txt', 'pos/cv875_5754.txt', 'pos/cv876_9390.txt', 'pos/cv877_29274.txt', 'pos/cv878_15694.txt', 'pos/cv879_14903.txt', 'pos/cv880_29800.txt', 'pos/cv881_13254.txt', 'pos/cv882_10026.txt', 'pos/cv883_27751.txt', 'pos/cv884_13632.txt', 'pos/cv885_12318.txt', 'pos/cv886_18177.txt', 'pos/cv887_5126.txt', 'pos/cv888_24435.txt', 'pos/cv889_21430.txt', 'pos/cv890_3977.txt', 'pos/cv891_6385.txt', 'pos/cv892_17576.txt', 'pos/cv893_26269.txt', 'pos/cv894_2068.txt', 'pos/cv895_21022.txt', 'pos/cv896_16071.txt', 'pos/cv897_10837.txt', 'pos/cv898_14187.txt', 'pos/cv899_16014.txt', 'pos/cv900_10331.txt', 'pos/cv901_11017.txt', 'pos/cv902_12256.txt', 'pos/cv903_17822.txt', 'pos/cv904_24353.txt', 'pos/cv905_29114.txt', 'pos/cv906_11491.txt', 'pos/cv907_3541.txt', 'pos/cv908_16009.txt', 'pos/cv909_9960.txt', 'pos/cv910_20488.txt', 'pos/cv911_20260.txt', 'pos/cv912_5674.txt', 'pos/cv913_29252.txt', 'pos/cv914_28742.txt', 'pos/cv915_8841.txt', 'pos/cv916_15467.txt', 'pos/cv917_29715.txt', 'pos/cv918_2693.txt', 'pos/cv919_16380.txt', 'pos/cv920_29622.txt', 'pos/cv921_12747.txt', 'pos/cv922_10073.txt', 'pos/cv923_11051.txt', 'pos/cv924_29540.txt', 'pos/cv925_8969.txt', 'pos/cv926_17059.txt', 'pos/cv927_10681.txt', 'pos/cv928_9168.txt', 'pos/cv929_16908.txt', 'pos/cv930_13475.txt', 'pos/cv931_17563.txt', 'pos/cv932_13401.txt', 'pos/cv933_23776.txt', 'pos/cv934_19027.txt', 'pos/cv935_23841.txt', 'pos/cv936_15954.txt', 'pos/cv937_9811.txt', 'pos/cv938_10220.txt', 'pos/cv939_10583.txt', 'pos/cv940_17705.txt', 'pos/cv941_10246.txt', 'pos/cv942_17082.txt', 'pos/cv943_22488.txt', 'pos/cv944_13521.txt', 'pos/cv945_12160.txt', 'pos/cv946_18658.txt', 'pos/cv947_10601.txt', 'pos/cv948_24606.txt', 'pos/cv949_20112.txt', 'pos/cv950_12350.txt', 'pos/cv951_10926.txt', 'pos/cv952_25240.txt', 'pos/cv953_6836.txt', 'pos/cv954_18628.txt', 'pos/cv955_25001.txt', 'pos/cv956_11609.txt', 'pos/cv957_8737.txt', 'pos/cv958_12162.txt', 'pos/cv959_14611.txt', 'pos/cv960_29007.txt', 'pos/cv961_5682.txt', 'pos/cv962_9803.txt', 'pos/cv963_6895.txt', 'pos/cv964_6021.txt', 'pos/cv965_26071.txt', 'pos/cv966_28832.txt', 'pos/cv967_5788.txt', 'pos/cv968_24218.txt', 'pos/cv969_13250.txt', 'pos/cv970_18450.txt', 'pos/cv971_10874.txt', 'pos/cv972_26417.txt', 'pos/cv973_10066.txt', 'pos/cv974_22941.txt', 'pos/cv975_10981.txt', 'pos/cv976_10267.txt', 'pos/cv977_4938.txt', 'pos/cv978_20929.txt', 'pos/cv979_18921.txt', 'pos/cv980_10953.txt', 'pos/cv981_14989.txt', 'pos/cv982_21103.txt', 'pos/cv983_22928.txt', 'pos/cv984_12767.txt', 'pos/cv985_6359.txt', 'pos/cv986_13527.txt', 'pos/cv987_6965.txt', 'pos/cv988_18740.txt', 'pos/cv989_15824.txt', 'pos/cv990_11591.txt', 'pos/cv991_18645.txt', 'pos/cv992_11962.txt', 'pos/cv993_29737.txt', 'pos/cv994_12270.txt', 'pos/cv995_21821.txt', 'pos/cv996_11592.txt', 'pos/cv997_5046.txt', 'pos/cv998_14111.txt', 'pos/cv999_13106.txt']\n",
      "(['films', 'adapted', 'from', 'comic', 'books', 'have', 'had', 'plenty', 'of', 'success', ',', 'whether', 'they', \"'\", 're', 'about', 'superheroes', '(', 'batman', ',', 'superman', ',', 'spawn', ')', ',', 'or', 'geared', 'toward', 'kids', '(', 'casper', ')', 'or', 'the', 'arthouse', 'crowd', '(', 'ghost', 'world', ')', ',', 'but', 'there', \"'\", 's', 'never', 'really', 'been', 'a', 'comic', 'book', 'like', 'from', 'hell', 'before', '.', 'for', 'starters', ',', 'it', 'was', 'created', 'by', 'alan', 'moore', '(', 'and', 'eddie', 'campbell', ')', ',', 'who', 'brought', 'the', 'medium', 'to', 'a', 'whole', 'new', 'level', 'in', 'the', 'mid', \"'\", '80s', 'with', 'a', '12', '-', 'part', 'series', 'called', 'the', 'watchmen', '.', 'to', 'say', 'moore', 'and', 'campbell', 'thoroughly', 'researched', 'the', 'subject', 'of', 'jack', 'the', 'ripper', 'would', 'be', 'like', 'saying', 'michael', 'jackson', 'is', 'starting', 'to', 'look', 'a', 'little', 'odd', '.', 'the', 'book', '(', 'or', '\"', 'graphic', 'novel', ',', '\"', 'if', 'you', 'will', ')', 'is', 'over', '500', 'pages', 'long', 'and', 'includes', 'nearly', '30', 'more', 'that', 'consist', 'of', 'nothing', 'but', 'footnotes', '.', 'in', 'other', 'words', ',', 'don', \"'\", 't', 'dismiss', 'this', 'film', 'because', 'of', 'its', 'source', '.', 'if', 'you', 'can', 'get', 'past', 'the', 'whole', 'comic', 'book', 'thing', ',', 'you', 'might', 'find', 'another', 'stumbling', 'block', 'in', 'from', 'hell', \"'\", 's', 'directors', ',', 'albert', 'and', 'allen', 'hughes', '.', 'getting', 'the', 'hughes', 'brothers', 'to', 'direct', 'this', 'seems', 'almost', 'as', 'ludicrous', 'as', 'casting', 'carrot', 'top', 'in', ',', 'well', ',', 'anything', ',', 'but', 'riddle', 'me', 'this', ':', 'who', 'better', 'to', 'direct', 'a', 'film', 'that', \"'\", 's', 'set', 'in', 'the', 'ghetto', 'and', 'features', 'really', 'violent', 'street', 'crime', 'than', 'the', 'mad', 'geniuses', 'behind', 'menace', 'ii', 'society', '?', 'the', 'ghetto', 'in', 'question', 'is', ',', 'of', 'course', ',', 'whitechapel', 'in', '1888', 'london', \"'\", 's', 'east', 'end', '.', 'it', \"'\", 's', 'a', 'filthy', ',', 'sooty', 'place', 'where', 'the', 'whores', '(', 'called', '\"', 'unfortunates', '\"', ')', 'are', 'starting', 'to', 'get', 'a', 'little', 'nervous', 'about', 'this', 'mysterious', 'psychopath', 'who', 'has', 'been', 'carving', 'through', 'their', 'profession', 'with', 'surgical', 'precision', '.', 'when', 'the', 'first', 'stiff', 'turns', 'up', ',', 'copper', 'peter', 'godley', '(', 'robbie', 'coltrane', ',', 'the', 'world', 'is', 'not', 'enough', ')', 'calls', 'in', 'inspector', 'frederick', 'abberline', '(', 'johnny', 'depp', ',', 'blow', ')', 'to', 'crack', 'the', 'case', '.', 'abberline', ',', 'a', 'widower', ',', 'has', 'prophetic', 'dreams', 'he', 'unsuccessfully', 'tries', 'to', 'quell', 'with', 'copious', 'amounts', 'of', 'absinthe', 'and', 'opium', '.', 'upon', 'arriving', 'in', 'whitechapel', ',', 'he', 'befriends', 'an', 'unfortunate', 'named', 'mary', 'kelly', '(', 'heather', 'graham', ',', 'say', 'it', 'isn', \"'\", 't', 'so', ')', 'and', 'proceeds', 'to', 'investigate', 'the', 'horribly', 'gruesome', 'crimes', 'that', 'even', 'the', 'police', 'surgeon', 'can', \"'\", 't', 'stomach', '.', 'i', 'don', \"'\", 't', 'think', 'anyone', 'needs', 'to', 'be', 'briefed', 'on', 'jack', 'the', 'ripper', ',', 'so', 'i', 'won', \"'\", 't', 'go', 'into', 'the', 'particulars', 'here', ',', 'other', 'than', 'to', 'say', 'moore', 'and', 'campbell', 'have', 'a', 'unique', 'and', 'interesting', 'theory', 'about', 'both', 'the', 'identity', 'of', 'the', 'killer', 'and', 'the', 'reasons', 'he', 'chooses', 'to', 'slay', '.', 'in', 'the', 'comic', ',', 'they', 'don', \"'\", 't', 'bother', 'cloaking', 'the', 'identity', 'of', 'the', 'ripper', ',', 'but', 'screenwriters', 'terry', 'hayes', '(', 'vertical', 'limit', ')', 'and', 'rafael', 'yglesias', '(', 'les', 'mis', '?', 'rables', ')', 'do', 'a', 'good', 'job', 'of', 'keeping', 'him', 'hidden', 'from', 'viewers', 'until', 'the', 'very', 'end', '.', 'it', \"'\", 's', 'funny', 'to', 'watch', 'the', 'locals', 'blindly', 'point', 'the', 'finger', 'of', 'blame', 'at', 'jews', 'and', 'indians', 'because', ',', 'after', 'all', ',', 'an', 'englishman', 'could', 'never', 'be', 'capable', 'of', 'committing', 'such', 'ghastly', 'acts', '.', 'and', 'from', 'hell', \"'\", 's', 'ending', 'had', 'me', 'whistling', 'the', 'stonecutters', 'song', 'from', 'the', 'simpsons', 'for', 'days', '(', '\"', 'who', 'holds', 'back', 'the', 'electric', 'car', '/', 'who', 'made', 'steve', 'guttenberg', 'a', 'star', '?', '\"', ')', '.', 'don', \"'\", 't', 'worry', '-', 'it', \"'\", 'll', 'all', 'make', 'sense', 'when', 'you', 'see', 'it', '.', 'now', 'onto', 'from', 'hell', \"'\", 's', 'appearance', ':', 'it', \"'\", 's', 'certainly', 'dark', 'and', 'bleak', 'enough', ',', 'and', 'it', \"'\", 's', 'surprising', 'to', 'see', 'how', 'much', 'more', 'it', 'looks', 'like', 'a', 'tim', 'burton', 'film', 'than', 'planet', 'of', 'the', 'apes', 'did', '(', 'at', 'times', ',', 'it', 'seems', 'like', 'sleepy', 'hollow', '2', ')', '.', 'the', 'print', 'i', 'saw', 'wasn', \"'\", 't', 'completely', 'finished', '(', 'both', 'color', 'and', 'music', 'had', 'not', 'been', 'finalized', ',', 'so', 'no', 'comments', 'about', 'marilyn', 'manson', ')', ',', 'but', 'cinematographer', 'peter', 'deming', '(', 'don', \"'\", 't', 'say', 'a', 'word', ')', 'ably', 'captures', 'the', 'dreariness', 'of', 'victorian', '-', 'era', 'london', 'and', 'helped', 'make', 'the', 'flashy', 'killing', 'scenes', 'remind', 'me', 'of', 'the', 'crazy', 'flashbacks', 'in', 'twin', 'peaks', ',', 'even', 'though', 'the', 'violence', 'in', 'the', 'film', 'pales', 'in', 'comparison', 'to', 'that', 'in', 'the', 'black', '-', 'and', '-', 'white', 'comic', '.', 'oscar', 'winner', 'martin', 'childs', \"'\", '(', 'shakespeare', 'in', 'love', ')', 'production', 'design', 'turns', 'the', 'original', 'prague', 'surroundings', 'into', 'one', 'creepy', 'place', '.', 'even', 'the', 'acting', 'in', 'from', 'hell', 'is', 'solid', ',', 'with', 'the', 'dreamy', 'depp', 'turning', 'in', 'a', 'typically', 'strong', 'performance', 'and', 'deftly', 'handling', 'a', 'british', 'accent', '.', 'ians', 'holm', '(', 'joe', 'gould', \"'\", 's', 'secret', ')', 'and', 'richardson', '(', '102', 'dalmatians', ')', 'log', 'in', 'great', 'supporting', 'roles', ',', 'but', 'the', 'big', 'surprise', 'here', 'is', 'graham', '.', 'i', 'cringed', 'the', 'first', 'time', 'she', 'opened', 'her', 'mouth', ',', 'imagining', 'her', 'attempt', 'at', 'an', 'irish', 'accent', ',', 'but', 'it', 'actually', 'wasn', \"'\", 't', 'half', 'bad', '.', 'the', 'film', ',', 'however', ',', 'is', 'all', 'good', '.', '2', ':', '00', '-', 'r', 'for', 'strong', 'violence', '/', 'gore', ',', 'sexuality', ',', 'language', 'and', 'drug', 'content'], 'pos')\n"
     ]
    }
   ],
   "source": [
    "print(len(mr.fileids()) )#hay 2000 ficheros (1000 exemples positius i 1000 negatius)\n",
    "print(mr.words('pos/cv000_29590.txt'))\n",
    "print(mr.categories())\n",
    "print(mr.fileids('pos')) #lista todos los ficheros positivos\n",
    "print((list(mr.words('pos/cv000_29590.txt')), 'pos') )"
   ]
  },
  {
   "cell_type": "markdown",
   "metadata": {},
   "source": [
    "# Particion Train y Test:"
   ]
  },
  {
   "cell_type": "code",
   "execution_count": 32,
   "metadata": {},
   "outputs": [],
   "source": [
    "doc_pos = [mr.words(f) for f in mr.fileids('pos')]\n",
    "doc_neg = [mr.words(f) for f in mr.fileids('neg')]"
   ]
  },
  {
   "cell_type": "code",
   "execution_count": 33,
   "metadata": {},
   "outputs": [],
   "source": [
    "random.shuffle(doc_pos)\n",
    "random.shuffle(doc_neg)"
   ]
  },
  {
   "cell_type": "code",
   "execution_count": 34,
   "metadata": {},
   "outputs": [],
   "source": [
    "train_pos = doc_pos[:int((len(doc_pos)*0.7))] #70% para el train\n",
    "test_pos = doc_pos[int((len(doc_pos)*0.7)):] #30% final para el test\n",
    "\n",
    "train_neg = doc_neg[:int((len(doc_neg)*0.7))]\n",
    "test_neg = doc_neg[int((len(doc_neg)*0.7)):]"
   ]
  },
  {
   "cell_type": "code",
   "execution_count": 35,
   "metadata": {},
   "outputs": [],
   "source": [
    "train = train_pos + train_neg\n",
    "test = test_pos + test_neg\n",
    "#hay que guardar estos ficheros porque cada vez que ejecutemos el codigo el random va a cambiar el contenido"
   ]
  },
  {
   "cell_type": "code",
   "execution_count": 36,
   "metadata": {},
   "outputs": [
    {
     "name": "stdout",
     "output_type": "stream",
     "text": [
      "700 700\n",
      "300 300\n"
     ]
    }
   ],
   "source": [
    "print(len(train_pos), len(train_neg))\n",
    "print(len(test_pos), len(test_neg))"
   ]
  },
  {
   "cell_type": "code",
   "execution_count": 37,
   "metadata": {},
   "outputs": [
    {
     "data": {
      "text/plain": [
       "True"
      ]
     },
     "execution_count": 37,
     "metadata": {},
     "output_type": "execute_result"
    }
   ],
   "source": [
    "train[699] in train_pos"
   ]
  },
  {
   "cell_type": "code",
   "execution_count": 38,
   "metadata": {},
   "outputs": [
    {
     "name": "stdout",
     "output_type": "stream",
     "text": [
      "1400\n"
     ]
    }
   ],
   "source": [
    "train_labels = [1]*700 + [0]*700\n",
    "print(len(train_labels))\n",
    "test_labels = [1]*300 + [0]*300"
   ]
  },
  {
   "cell_type": "markdown",
   "metadata": {},
   "source": [
    "# Preprocesamiento"
   ]
  },
  {
   "cell_type": "code",
   "execution_count": 39,
   "metadata": {},
   "outputs": [],
   "source": [
    "import re\n",
    "\n",
    "def preproces(text):\n",
    "    text_clean = []\n",
    "    # Expresión regular para eliminar todo lo que no sea una letra o un espacio\n",
    "    regex = r\"[^a-zA-Z\\s]\"\n",
    "    \n",
    "    # Diccionario de reemplazo\n",
    "    replacements = {\n",
    "        \"t\": \"not\",\n",
    "        's': 'is', #aunque tambien puede ser posesivo\n",
    "        \"didn\": \"did\",\n",
    "        \"haven\": \"have\",\n",
    "        \"hasn\": \"has\",\n",
    "        \"hadn\": \"had\",\n",
    "        \"shouldn\": \"should\",\n",
    "        \"wouldn\": \"would\",\n",
    "        \"couldn\": \"could\",\n",
    "        \"mustn\": \"must\",\n",
    "        'doesn': 'does',\n",
    "        'isn' : 'is',\n",
    "        'aren' : 'are',\n",
    "        'll': 'will',\n",
    "        've' : 'have', \n",
    "        'd' : 'would',\n",
    "        'm': 'am'\n",
    "    }\n",
    "    \n",
    "    for w in text:\n",
    "        # Eliminar caracteres no deseados y números\n",
    "        limpio = re.sub(regex, \"\", w)\n",
    "        # Convertir a minúsculas\n",
    "        limpio = limpio.lower()\n",
    "        # Eliminar espacios en blanco al principio y al final\n",
    "        limpio = limpio.strip()\n",
    "        # Eliminar si la palabra es \"s\"\n",
    "        #if limpio == \"s\":\n",
    "           # continue\n",
    "        # Reemplazar si está en el diccionario\n",
    "        if limpio in replacements:\n",
    "            limpio = replacements[limpio]\n",
    "        # Filtrar tokens vacíos\n",
    "        if limpio != \"\":\n",
    "            text_clean.append(limpio)\n",
    "    \n",
    "    return text_clean"
   ]
  },
  {
   "cell_type": "code",
   "execution_count": 40,
   "metadata": {},
   "outputs": [
    {
     "name": "stdout",
     "output_type": "stream",
     "text": [
      "['plot', 'a', 'peculiar', 'french', 'girl', 'grows', 'up', 'lonely', 'with', 'her', 'father', 'and', 'does', 'not', 'quite', 'know', 'what', 'she', 'wants', 'out', 'of', 'life', 'one', 'day', 'she', 'falls', 'upon', 'something', 'and', 'believes', 'that', 'her', 'ticket', 'to', 'happiness', 'may', 'be', 'in', 'helping', 'others', 'she', 'starts', 'with', 'the', 'people', 'around', 'her', 'but', 'when', 'she', 'suddenly', 'falls', 'for', 'her', 'own', 'guy', 'she', 'can', 'not', 'act', 'strongly', 'enough', 'because', 'of', 'her', 'shy', 'and', 'dreamy', 'nature', 'critique', 'a', 'clever', 'quirky', 'original', 'french', 'flick', 'set', 'in', 'a', 'picturesque', 'paris', 'featuring', 'an', 'endearing', 'lead', 'with', 'a', 'giant', 'imagination', 'much', 'loneliness', 'and', 'a', 'little', 'bit', 'of', 'love', 'for', 'everyone', 'this', 'is', 'a', 'feel', 'good', 'kind', 'of', 'movie', 'a', 'fairy', 'tale', 'for', 'grown', 'ups', 'who', 'are', 'bummed', 'out', 'about', 'life', 'it', 'does', 'not', 'pretend', 'to', 'be', 'deep', 'it', 'does', 'not', 'weigh', 'itself', 'down', 'with', 'long', 'expositions', 'or', 'intricate', 'studies', 'of', 'its', 'characters', 'it', 'is', 'basically', 'just', 'a', 'cute', 'movie', 'in', 'the', 'same', 'vein', 'as', 'chocolat', 'and', 'pay', 'it', 'forward', 'with', 'some', 'amazing', 'visuals', 'and', 'incredibly', 'nice', 'intentions', 'and', 'if', 'chocolat', 'was', 'somehow', 'able', 'to', 'nab', 'an', 'oscar', 'nomination', 'for', 'best', 'picture', 'last', 'year', 'a', 'sham', 'on', 'so', 'many', 'different', 'levels', 'you', 'might', 'as', 'well', 'slap', 'this', 'film', 'up', 'for', 'consideration', 'also', 'since', 'it', 'is', 'quite', 'a', 'bit', 'better', 'and', 'much', 'more', 'original', 'than', 'the', 'former', 'one', 'thing', 'that', 'this', 'film', 'is', 'not', 'though', 'at', 'least', 'according', 'to', 'me', 'is', 'the', 'best', 'film', 'of', 'the', 'year', 'it', 'was', 'bestowed', 'the', 'honor', 'of', 'best', 'in', 'at', 'least', 'different', 'film', 'festivals', 'so', 'far', 'this', 'year', 'it', 'actually', 'managed', 'to', 'stagnate', 'a', 'little', 'bit', 'about', 'halfway', 'through', 'and', 'it', 'just', 'went', 'on', 'for', 'way', 'too', 'long', 'it', 'is', 'a', 'little', 'over', 'two', 'hours', 'but', 'it', 'felt', 'even', 'longer', 'with', 'much', 'of', 'the', 'second', 'half', 'of', 'the', 'movie', 'devoted', 'to', 'many', 'different', 'characters', 'all', 'of', 'whom', 'weren', 'not', 'as', 'interesting', 'as', 'the', 'lead', 'and', 'a', 'lot', 'of', 'indecisiveness', 'from', 'ms', 'amelie', 'herself', 'which', 'got', 'frustrating', 'thankfully', 'this', 'film', 'does', 'not', 'bog', 'itself', 'down', 'with', 'too', 'much', 'of', 'that', 'stuff', 'and', 'actually', 'goes', 'out', 'of', 'its', 'way', 'to', 'invent', 'new', 'ways', 'to', 'shoot', 'scenes', 'to', 'integrate', 'moments', 'of', 'fantasy', 'into', 'its', 'fabric', 'and', 'to', 'transport', 'the', 'audience', 'inside', 'the', 'imagination', 'of', 'this', 'kind', 'hearted', 'french', 'girl', 'on', 'the', 'whole', 'it', 'is', 'a', 'lot', 'of', 'fun', 'and', 'it', 'carries', 'a', 'beautiful', 'message', 'of', 'love', 'and', 'support', 'for', 'your', 'fellow', 'man', 'the', 'lead', 'audrey', 'tautou', 'is', 'perfect', 'for', 'the', 'role', 'and', 'gives', 'you', 'enough', 'moments', 'of', 'truth', 'to', 'develop', 'her', 'character', 'into', 'someone', 'that', 'you', 'care', 'about', 'by', 'the', 'end', 'of', 'the', 'film', 'unfortunately', 'the', 'rest', 'of', 'the', 'cast', 'is', 'not', 'as', 'well', 'developed', 'and', 'even', 'though', 'most', 'of', 'them', 'are', 'pretty', 'appealing', 'a', 'couple', 'could', 'have', 'been', 'left', 'out', 'to', 'save', 'time', 'and', 'at', 'least', 'one', 'was', 'left', 'stranded', 'plot', 'wise', 'by', 'the', 'film', 'is', 'end', 'what', 'happened', 'to', 'the', 'guy', 'in', 'the', 'caf', 'who', 'was', 'spying', 'on', 'his', 'ex', 'girlfriend', 'the', 'whole', 'movie', 'now', 'i', 'have', 'not', 'seen', 'too', 'many', 'recent', 'french', 'films', 'i', 'will', 'admit', 'but', 'if', 'this', 'is', 'the', 'kind', 'of', 'scene', 'that', 'they', 're', 'developing', 'over', 'in', 'le', 'pays', 'du', 'vin', 'i', 'would', 'not', 'mind', 'catching', 'more', 'of', 'their', 'flicks', 'in', 'the', 'future', 'crimson', 'rivers', 'was', 'another', 'french', 'film', 'that', 'i', 'saw', 'earlier', 'this', 'year', 'which', 'i', 'really', 'liked', 'ironically', 'that', 'film', 'was', 'directed', 'by', 'mathieu', 'kassovitz', 'who', 'is', 'the', 'co', 'star', 'in', 'this', 'film', 'granted', 'the', 'english', 'subtitles', 'got', 'a', 'little', 'tough', 'to', 'keep', 'up', 'with', 'at', 'times', 'i', 'speak', 'and', 'understand', 'french', 'also', 'but', 'some', 'of', 'the', 'local', 'colloquialisms', 'went', 'over', 'my', 'head', 'especially', 'since', 'the', 'film', 'is', 'visuals', 'were', 'so', 'intriguing', 'that', 'you', 'just', 'could', 'not', 'help', 'but', 'constantly', 'gawk', 'at', 'them', 'but', 'the', 'general', 'idea', 'the', 'background', 'music', 'the', 'nifty', 'french', 'neighborhoods', 'the', 'very', 'creative', 'way', 'of', 'enveloping', 'the', 'audience', 'into', 'the', 'story', 'line', 'from', 'the', 'start', 'were', 'all', 'very', 'easy', 'to', 'appreciate', 'and', 'i', 'for', 'one', 'was', 'especially', 'glad', 'to', 'have', 'seen', 'this', 'movie', 'during', 'these', 'trying', 'times', 'in', 'the', 'world', 'in', 'fact', 'i', 'would', 'recommend', 'it', 'to', 'anyone', 'looking', 'for', 'a', 'jolly', 'ol', 'time', 'at', 'the', 'movie', 'house', 'with', 'a', 'particular', 'emphasis', 'on', 'folks', 'with', 'a', 'lot', 'of', 'imagination', 'a', 'little', 'loneliness', 'in', 'their', 'lives', 'and', 'many', 'dreams', 'in', 'their', 'hearts', 'and', 'this', 'guy', 'directed', 'alien', 'resurrection', 'get', 'outta', 'here', 'note', 'i', 'especially', 'loved', 'the', 'way', 'that', 'the', 'script', 'detailed', 'and', 'showed', 'the', 'loves', 'hates', 'of', 'everyone', 'with', 'exact', 'mentions', 'in', 'the', 'film', 'it', 'was', 'very', 'original', 'very', 'well', 'shot', 'and', 'very', 'nostalgic', 'as', 'many', 'of', 'us', 'were', 'able', 'to', 'relate', 'to', 'the', 'behaviors', 'described', 'good', 'stuff', 'where', 'is', 'joblo', 'coming', 'from', 'chocolat', 'crimson', 'rivers', 'ghost', 'world', 'like', 'water', 'for', 'chocolate', 'o', 'brother', 'where', 'art', 'thou', 'pay', 'it', 'forward', 'rushmore', 'woman', 'on', 'top']\n"
     ]
    }
   ],
   "source": [
    "clean_train = [preproces(words) for words in train]\n",
    "print(clean_train[0])\n",
    "clean_test = [preproces(words)for words in test]"
   ]
  },
  {
   "cell_type": "markdown",
   "metadata": {},
   "source": [
    "# Lematizacion"
   ]
  },
  {
   "cell_type": "code",
   "execution_count": 41,
   "metadata": {},
   "outputs": [
    {
     "name": "stderr",
     "output_type": "stream",
     "text": [
      "[nltk_data] Downloading package averaged_perceptron_tagger_eng to\n",
      "[nltk_data]     C:\\Users\\jiahu\\AppData\\Roaming\\nltk_data...\n",
      "[nltk_data]   Package averaged_perceptron_tagger_eng is already up-to-\n",
      "[nltk_data]       date!\n"
     ]
    },
    {
     "data": {
      "text/plain": [
       "True"
      ]
     },
     "execution_count": 41,
     "metadata": {},
     "output_type": "execute_result"
    }
   ],
   "source": [
    "nltk.download('averaged_perceptron_tagger_eng')"
   ]
  },
  {
   "cell_type": "code",
   "execution_count": 42,
   "metadata": {},
   "outputs": [],
   "source": [
    "#Poner tags y no incluir stop Words ya que no aportaran informacion importante para el Sentiment Analisys\n",
    "train_tagged = []\n",
    "tags = set()\n",
    "stop_tags = {'DT', 'IN', 'CC', 'PRP', 'PRP$', 'WP', 'WP$', 'RP', 'TO', 'CD', 'EX', 'WDT'}\n",
    "for l in clean_train:\n",
    "    aux = []\n",
    "    con_tag = nltk.pos_tag(l)\n",
    "    for w, tag in con_tag:\n",
    "        if tag not in stop_tags:\n",
    "            aux.append((w, tag))\n",
    "            tags.add(tag)\n",
    "    train_tagged.append(aux)"
   ]
  },
  {
   "cell_type": "code",
   "execution_count": 43,
   "metadata": {},
   "outputs": [
    {
     "name": "stdout",
     "output_type": "stream",
     "text": [
      "{'VBG', 'RBS', 'VBD', 'SYM', 'VBP', 'RB', 'POS', 'JJS', 'WRB', 'JJ', 'NN', 'UH', 'VBN', 'JJR', 'MD', 'RBR', 'PDT', 'FW', 'VB', '$', 'NNS', 'VBZ', 'NNP', 'NNPS'}\n"
     ]
    }
   ],
   "source": [
    "print(tags) #todos los tags unicos que aparecen en el train"
   ]
  },
  {
   "cell_type": "code",
   "execution_count": 44,
   "metadata": {},
   "outputs": [
    {
     "name": "stdout",
     "output_type": "stream",
     "text": [
      "[('plot', 'NN'), ('peculiar', 'JJ'), ('french', 'JJ'), ('girl', 'NN'), ('grows', 'VBZ'), ('lonely', 'RB'), ('father', 'NN'), ('does', 'VBZ'), ('not', 'RB'), ('quite', 'RB'), ('know', 'VB'), ('wants', 'VBZ'), ('life', 'NN'), ('day', 'NN'), ('falls', 'VBZ'), ('something', 'NN'), ('believes', 'VBZ'), ('ticket', 'NN'), ('happiness', 'VB'), ('may', 'MD'), ('be', 'VB'), ('helping', 'VBG'), ('others', 'NNS'), ('starts', 'VBZ'), ('people', 'NNS'), ('when', 'WRB'), ('suddenly', 'RB'), ('falls', 'VBZ'), ('own', 'JJ'), ('guy', 'NN'), ('can', 'MD'), ('not', 'RB'), ('act', 'VB'), ('strongly', 'RB'), ('enough', 'RB'), ('shy', 'NN'), ('dreamy', 'JJ'), ('nature', 'NN'), ('critique', 'NN'), ('clever', 'NN'), ('quirky', 'JJ'), ('original', 'JJ'), ('french', 'JJ'), ('flick', 'NN'), ('set', 'VBN'), ('picturesque', 'JJ'), ('paris', 'NN'), ('featuring', 'VBG'), ('endearing', 'VBG'), ('lead', 'NN'), ('giant', 'JJ'), ('imagination', 'NN'), ('much', 'JJ'), ('loneliness', 'NN'), ('little', 'JJ'), ('bit', 'NN'), ('love', 'NN'), ('everyone', 'NN'), ('is', 'VBZ'), ('feel', 'NN'), ('good', 'JJ'), ('kind', 'NN'), ('movie', 'NN'), ('fairy', 'JJ'), ('tale', 'NN'), ('grown', 'JJ'), ('ups', 'NNS'), ('are', 'VBP'), ('bummed', 'VBN'), ('life', 'NN'), ('does', 'VBZ'), ('not', 'RB'), ('pretend', 'VB'), ('be', 'VB'), ('deep', 'JJ'), ('does', 'VBZ'), ('not', 'RB'), ('weigh', 'VB'), ('long', 'JJ'), ('expositions', 'NNS'), ('intricate', 'JJ'), ('studies', 'NNS'), ('characters', 'NNS'), ('is', 'VBZ'), ('basically', 'RB'), ('just', 'RB'), ('cute', 'JJ'), ('movie', 'NN'), ('same', 'JJ'), ('vein', 'NN'), ('chocolat', 'JJ'), ('pay', 'VB'), ('forward', 'RB'), ('amazing', 'JJ'), ('visuals', 'NNS'), ('incredibly', 'RB'), ('nice', 'JJ'), ('intentions', 'NNS'), ('chocolat', 'NN'), ('was', 'VBD'), ('somehow', 'RB'), ('able', 'JJ'), ('nab', 'VB'), ('oscar', 'NN'), ('nomination', 'NN'), ('best', 'JJS'), ('picture', 'NN'), ('last', 'JJ'), ('year', 'NN'), ('sham', 'NN'), ('so', 'RB'), ('many', 'JJ'), ('different', 'JJ'), ('levels', 'NNS'), ('might', 'MD'), ('as', 'RB'), ('well', 'RB'), ('slap', 'VB'), ('film', 'NN'), ('consideration', 'NN'), ('also', 'RB'), ('is', 'VBZ'), ('quite', 'RB'), ('bit', 'NN'), ('better', 'RBR'), ('much', 'RB'), ('more', 'RBR'), ('original', 'JJ'), ('former', 'JJ'), ('thing', 'NN'), ('film', 'NN'), ('is', 'VBZ'), ('not', 'RB'), ('least', 'JJS'), ('according', 'VBG'), ('is', 'VBZ'), ('best', 'JJS'), ('film', 'NN'), ('year', 'NN'), ('was', 'VBD'), ('bestowed', 'VBN'), ('honor', 'NN'), ('best', 'JJS'), ('least', 'JJS'), ('different', 'JJ'), ('film', 'NN'), ('festivals', 'NNS'), ('so', 'RB'), ('far', 'RB'), ('year', 'NN'), ('actually', 'RB'), ('managed', 'VBD'), ('stagnate', 'VB'), ('little', 'JJ'), ('bit', 'NN'), ('halfway', 'NN'), ('just', 'RB'), ('went', 'VBD'), ('way', 'NN'), ('too', 'RB'), ('long', 'JJ'), ('is', 'VBZ'), ('little', 'JJ'), ('hours', 'NNS'), ('felt', 'VBD'), ('even', 'RB'), ('longer', 'RBR'), ('much', 'JJ'), ('second', 'JJ'), ('half', 'NN'), ('movie', 'NN'), ('devoted', 'VBN'), ('many', 'JJ'), ('different', 'JJ'), ('characters', 'NNS'), ('weren', 'VBP'), ('not', 'RB'), ('as', 'RB'), ('interesting', 'JJ'), ('lead', 'NN'), ('lot', 'NN'), ('indecisiveness', 'NN'), ('ms', 'JJ'), ('amelie', 'NN'), ('got', 'VBD'), ('frustrating', 'VBG'), ('thankfully', 'RB'), ('film', 'NN'), ('does', 'VBZ'), ('not', 'RB'), ('bog', 'VB'), ('too', 'RB'), ('much', 'JJ'), ('stuff', 'NN'), ('actually', 'RB'), ('goes', 'VBZ'), ('way', 'NN'), ('invent', 'VB'), ('new', 'JJ'), ('ways', 'NNS'), ('shoot', 'VB'), ('scenes', 'NNS'), ('integrate', 'VB'), ('moments', 'NNS'), ('fantasy', 'NN'), ('fabric', 'NN'), ('transport', 'VB'), ('audience', 'NN'), ('imagination', 'NN'), ('kind', 'NN'), ('hearted', 'VBD'), ('french', 'JJ'), ('girl', 'NN'), ('whole', 'NN'), ('is', 'VBZ'), ('lot', 'NN'), ('fun', 'NN'), ('carries', 'VBZ'), ('beautiful', 'JJ'), ('message', 'NN'), ('love', 'NN'), ('support', 'NN'), ('fellow', 'JJ'), ('man', 'NN'), ('lead', 'JJ'), ('audrey', 'NN'), ('tautou', 'NN'), ('is', 'VBZ'), ('perfect', 'JJ'), ('role', 'NN'), ('gives', 'VBZ'), ('enough', 'JJ'), ('moments', 'NNS'), ('truth', 'NN'), ('develop', 'VB'), ('character', 'NN'), ('someone', 'NN'), ('care', 'VBP'), ('end', 'NN'), ('film', 'NN'), ('unfortunately', 'RB'), ('rest', 'NN'), ('cast', 'NN'), ('is', 'VBZ'), ('not', 'RB'), ('as', 'RB'), ('well', 'RB'), ('developed', 'VBN'), ('even', 'RB'), ('most', 'JJS'), ('are', 'VBP'), ('pretty', 'RB'), ('appealing', 'VBG'), ('couple', 'NN'), ('could', 'MD'), ('have', 'VB'), ('been', 'VBN'), ('left', 'VBN'), ('save', 'VB'), ('time', 'NN'), ('least', 'JJS'), ('was', 'VBD'), ('left', 'VBN'), ('stranded', 'JJ'), ('plot', 'NN'), ('wise', 'NN'), ('film', 'NN'), ('is', 'VBZ'), ('end', 'VB'), ('happened', 'VBD'), ('guy', 'NN'), ('caf', 'NN'), ('was', 'VBD'), ('spying', 'VBG'), ('ex', 'NN'), ('girlfriend', 'VBP'), ('whole', 'JJ'), ('movie', 'NN'), ('now', 'RB'), ('i', 'RB'), ('have', 'VBP'), ('not', 'RB'), ('seen', 'VBN'), ('too', 'RB'), ('many', 'JJ'), ('recent', 'JJ'), ('french', 'JJ'), ('films', 'NNS'), ('i', 'VBP'), ('will', 'MD'), ('admit', 'VB'), ('is', 'VBZ'), ('kind', 'NN'), ('scene', 'NN'), ('re', 'VBP'), ('developing', 'VBG'), ('le', 'JJ'), ('pays', 'NNS'), ('du', 'VBP'), ('vin', 'NN'), ('i', 'NN'), ('would', 'MD'), ('not', 'RB'), ('mind', 'VB'), ('catching', 'VBG'), ('more', 'JJR'), ('flicks', 'NNS'), ('future', 'NN'), ('crimson', 'NN'), ('rivers', 'NNS'), ('was', 'VBD'), ('french', 'JJ'), ('film', 'NN'), ('i', 'NN'), ('saw', 'VBD'), ('earlier', 'RBR'), ('year', 'NN'), ('i', 'VBP'), ('really', 'RB'), ('liked', 'VBN'), ('ironically', 'RB'), ('film', 'NN'), ('was', 'VBD'), ('directed', 'VBN'), ('mathieu', 'NN'), ('kassovitz', 'NN'), ('is', 'VBZ'), ('co', 'JJ'), ('star', 'NN'), ('film', 'NN'), ('granted', 'VBD'), ('english', 'JJ'), ('subtitles', 'NNS'), ('got', 'VBD'), ('little', 'JJ'), ('tough', 'JJ'), ('keep', 'VB'), ('times', 'NNS'), ('i', 'JJ'), ('speak', 'VBP'), ('understand', 'VBP'), ('french', 'JJ'), ('also', 'RB'), ('local', 'JJ'), ('colloquialisms', 'NNS'), ('went', 'VBD'), ('head', 'NN'), ('especially', 'RB'), ('film', 'NN'), ('is', 'VBZ'), ('visuals', 'NNS'), ('were', 'VBD'), ('so', 'RB'), ('intriguing', 'JJ'), ('just', 'RB'), ('could', 'MD'), ('not', 'RB'), ('help', 'VB'), ('constantly', 'RB'), ('gawk', 'VBP'), ('general', 'JJ'), ('idea', 'NN'), ('background', 'NN'), ('music', 'NN'), ('nifty', 'JJ'), ('french', 'JJ'), ('neighborhoods', 'NNS'), ('very', 'RB'), ('creative', 'JJ'), ('way', 'NN'), ('enveloping', 'VBG'), ('audience', 'NN'), ('story', 'NN'), ('line', 'NN'), ('start', 'NN'), ('were', 'VBD'), ('very', 'RB'), ('easy', 'JJ'), ('appreciate', 'VB'), ('i', 'VB'), ('was', 'VBD'), ('especially', 'RB'), ('glad', 'JJ'), ('have', 'VB'), ('seen', 'VBN'), ('movie', 'NN'), ('trying', 'VBG'), ('times', 'NNS'), ('world', 'NN'), ('fact', 'NN'), ('i', 'NN'), ('would', 'MD'), ('recommend', 'VB'), ('anyone', 'NN'), ('looking', 'VBG'), ('jolly', 'RB'), ('ol', 'JJ'), ('time', 'NN'), ('movie', 'NN'), ('house', 'NN'), ('particular', 'JJ'), ('emphasis', 'NN'), ('folks', 'NNS'), ('lot', 'NN'), ('imagination', 'NN'), ('little', 'JJ'), ('loneliness', 'NN'), ('lives', 'NNS'), ('many', 'JJ'), ('dreams', 'NNS'), ('hearts', 'NNS'), ('guy', 'NN'), ('directed', 'VBD'), ('alien', 'JJ'), ('resurrection', 'NN'), ('get', 'VB'), ('here', 'RB'), ('note', 'VBP'), ('i', 'JJ'), ('especially', 'RB'), ('loved', 'VBD'), ('way', 'NN'), ('script', 'NN'), ('detailed', 'VBN'), ('showed', 'VBD'), ('loves', 'NNS'), ('hates', 'NNS'), ('everyone', 'NN'), ('exact', 'JJ'), ('mentions', 'NNS'), ('film', 'NN'), ('was', 'VBD'), ('very', 'RB'), ('original', 'JJ'), ('very', 'RB'), ('well', 'RB'), ('shot', 'NN'), ('very', 'RB'), ('nostalgic', 'RB'), ('many', 'JJ'), ('were', 'VBD'), ('able', 'JJ'), ('relate', 'VB'), ('behaviors', 'NNS'), ('described', 'VBD'), ('good', 'JJ'), ('stuff', 'NN'), ('where', 'WRB'), ('is', 'VBZ'), ('joblo', 'JJ'), ('coming', 'VBG'), ('chocolat', 'JJ'), ('crimson', 'NN'), ('rivers', 'NNS'), ('ghost', 'VBP'), ('world', 'NN'), ('water', 'NN'), ('chocolate', 'NN'), ('o', 'NN'), ('brother', 'NN'), ('where', 'WRB'), ('art', 'NN'), ('thou', 'VBZ'), ('pay', 'VB'), ('forward', 'RB'), ('rushmore', 'VBD'), ('woman', 'NN'), ('top', 'NN')]\n",
      "['plot', ':', 'a', 'peculiar', 'french', 'girl', ...]\n"
     ]
    }
   ],
   "source": [
    "#ejemplo del resultado\n",
    "print(train_tagged[0])\n",
    "print(train[0]) "
   ]
  },
  {
   "cell_type": "code",
   "execution_count": 45,
   "metadata": {},
   "outputs": [
    {
     "name": "stdout",
     "output_type": "stream",
     "text": [
      "['lambs', 'ten']\n"
     ]
    }
   ],
   "source": [
    "#ver otros ejemplos de palabras con un cierto tag\n",
    "palabras = []\n",
    "for l in train_tagged:\n",
    "    for palabra, etiqueta in l:\n",
    "            if etiqueta == '$':\n",
    "                palabras.append(palabra)\n",
    "print(palabras)"
   ]
  },
  {
   "cell_type": "markdown",
   "metadata": {},
   "source": [
    "El tag '$' es un error del tagger pero no upondrá ningún problema. Además, al observar el tag \"FW\" (palabras que se etiquetan como extranjeras) vemos que podríamos eliminar errores, palabras en otros idiomas, nombres propios, pero también palabras normales. Como posteriormnte se va a hacer filtrado de frequencias esperamos que se eliminarán las palabras no deseadas y quedarán las que sí que tienen sentido."
   ]
  },
  {
   "cell_type": "markdown",
   "metadata": {},
   "source": [
    "Se lematizan solo estas categorias, reconocidas por SentiWordNet:\n",
    "\n",
    "Sustantivos ('n')\t'NN', 'NNS', 'NNP', 'NNPS'\n",
    "Verbos ('v')\t'VB', 'VBD', 'VBG', 'VBN', 'VBP', 'VBZ'\n",
    "Adjetivos ('a')\t'JJ', 'JJR', 'JJS'\n",
    "Adverbios ('r')\t'RB', 'RBR', 'RBS'"
   ]
  },
  {
   "cell_type": "code",
   "execution_count": 46,
   "metadata": {},
   "outputs": [
    {
     "name": "stderr",
     "output_type": "stream",
     "text": [
      "[nltk_data] Downloading package wordnet to\n",
      "[nltk_data]     C:\\Users\\jiahu\\AppData\\Roaming\\nltk_data...\n",
      "[nltk_data]   Package wordnet is already up-to-date!\n",
      "[nltk_data] Downloading package omw-1.4 to\n",
      "[nltk_data]     C:\\Users\\jiahu\\AppData\\Roaming\\nltk_data...\n",
      "[nltk_data]   Package omw-1.4 is already up-to-date!\n"
     ]
    }
   ],
   "source": [
    "nltk.download('wordnet')\n",
    "nltk.download('omw-1.4')\n",
    "wnl = nltk.stem.WordNetLemmatizer()\n",
    "def lemmatize(p):\n",
    "  d = {'NN': 'n', 'NNS': 'n', 'NNP' : 'n', 'NNPS':'n',\n",
    "       'JJ': 'a', 'JJR': 'a', 'JJS': 'a', \n",
    "       'VB': 'v', 'VBD': 'v', 'VBG': 'v', 'VBN': 'v', 'VBP': 'v', 'VBZ': 'v', 'MD':'v',\n",
    "       'RB': 'r', 'RBR': 'r', 'RBS': 'r'} \n",
    "  if p[1] in d:\n",
    "    return wnl.lemmatize(p[0], pos=d[p[1]])\n",
    "  return p[0]"
   ]
  },
  {
   "cell_type": "code",
   "execution_count": 47,
   "metadata": {},
   "outputs": [],
   "source": [
    "train_lemat = []\n",
    "for l in train_tagged:\n",
    "    aux = []\n",
    "    for i in l:\n",
    "        aux.append(lemmatize(i))\n",
    "    train_lemat.append(aux)"
   ]
  },
  {
   "cell_type": "markdown",
   "metadata": {},
   "source": [
    "## Vectroización BoW"
   ]
  },
  {
   "cell_type": "code",
   "execution_count": 48,
   "metadata": {},
   "outputs": [],
   "source": [
    "vectorizer = CountVectorizer()\n",
    "train_aplanado = [' '.join(sublista) for sublista in train_lemat]\n",
    "X_train = vectorizer.fit_transform(train_aplanado)"
   ]
  },
  {
   "cell_type": "code",
   "execution_count": null,
   "metadata": {},
   "outputs": [
    {
     "data": {
      "text/plain": [
       "(1400, 27607)"
      ]
     },
     "execution_count": 49,
     "metadata": {},
     "output_type": "execute_result"
    }
   ],
   "source": [
    "X_train.shape"
   ]
  },
  {
   "cell_type": "code",
   "execution_count": 60,
   "metadata": {},
   "outputs": [
    {
     "data": {
      "text/plain": [
       "'david mamet have long be favorite screenwriter director distinctive more often not ingenious dialogue laid back style direction nearly movie be absolutely irresistible tend be thickly layer deceptive production require audience look film less superficial manner plot seem require order discern concealed message sometimes even concealed storyline real plot new project winslow boy be slightly more conspicuous other endeavor be still brilliantly complex consistently rivet motion picture honor sacrifice difference be commonly know justice be right oh be rat g incidentally be first time mamet have decide adapt someone else be work namely play terrence rattigan set th century cast nigel hawthorne lead role arthur rich age man find year old son ronnie have be kick naval academy allegedly steal shilling postal note do do ask boy father i do not ronnie answer be enough arthur old daughter rebecca pidgeon immediately start crusade bring son be case court enlist help sir robert morton notorious attorney help achieve formidably daunt task seem fairly frivolous matter how look winslow case be not trial century arthur be determine keep family be word clean be willing go quite far make sure soon enough sir robert morton rest country become equally wrap proceeding so do david mamet do script be tighten hone dialogue style be still fairly apparent character still talk trademark staccatto line be still tension present conversation ordinary writer would be able make tense be not mamet be norm be refresh see mamet deviate world crooks gangster con men wonderful film be nigel hawthorne be performance be nearly flawless delivery be dignify yet not pompous man seem be get beat own game pity man also like rebecca pidgeon david mamet be wife give fairly awful performance spanish prisoner be top game here arthur be old daughter flailing feminist give winslow case way make lack success woman be suffrage movement winslow boy be wonderful movie avoid cliche such seemingly inevitable courtroom scene shoot high want make real impact rather phony be honest do feel anything profound courtroom scene film time kill want do not be movie be epitome subtlety be powerful be too emotional sad even try be depress david mamet can churn great script movie prove ever doubt once be hell director too be almost national treasure film deserve own genre eugene novikov'"
      ]
     },
     "execution_count": 60,
     "metadata": {},
     "output_type": "execute_result"
    }
   ],
   "source": [
    "train_aplanado[1]"
   ]
  },
  {
   "cell_type": "markdown",
   "metadata": {},
   "source": [
    "Eliminacion de frequencias bajas"
   ]
  },
  {
   "cell_type": "code",
   "execution_count": 50,
   "metadata": {},
   "outputs": [
    {
     "name": "stdout",
     "output_type": "stream",
     "text": [
      "[('aa', np.int64(1)), ('aaa', np.int64(1)), ('aaaahhhs', np.int64(1)), ('aamir', np.int64(1)), ('aardman', np.int64(1)), ('abberation', np.int64(1)), ('abbott', np.int64(1)), ('abbotts', np.int64(1)), ('abbreviated', np.int64(1)), ('abdomen', np.int64(1))]\n"
     ]
    }
   ],
   "source": [
    "# Sumamos las frecuencias de cada palabra en todos los documentos\n",
    "word_frequencies = X_train.sum(axis=0).A1\n",
    "# Obtenemos el vocabulario mapeado a índices\n",
    "words = vectorizer.get_feature_names_out()\n",
    "# Convertimos en un diccionario {palabra: frecuencia}\n",
    "freq_dict = dict(zip(words, word_frequencies))\n",
    "# Ordenamos por frecuencia ascendente\n",
    "sorted_freq = sorted(freq_dict.items(), key=lambda x: x[1])\n",
    "print(sorted_freq[:10])  # Muestra las 10 palabras menos frecuentes\n"
   ]
  },
  {
   "cell_type": "code",
   "execution_count": 51,
   "metadata": {},
   "outputs": [
    {
     "data": {
      "image/png": "[encoded data removed]",
      "text/plain": [
       "<Figure size 1000x500 with 1 Axes>"
      ]
     },
     "metadata": {},
     "output_type": "display_data"
    }
   ],
   "source": [
    "import matplotlib.pyplot as plt\n",
    "import numpy as np\n",
    "\n",
    "# Ordenamos las frecuencias en orden descendente\n",
    "sorted_freq_values = np.array(sorted(word_frequencies, reverse=True))\n",
    "\n",
    "# Creamos la gráfica\n",
    "plt.figure(figsize=(10,5))\n",
    "plt.plot(sorted_freq_values, marker=\"o\", linestyle=\"-\")\n",
    "\n",
    "# Agregamos etiquetas\n",
    "plt.xlabel(\"Palabras ordenadas por frecuencia\")\n",
    "plt.ylabel(\"Frecuencia de aparición\")\n",
    "plt.title(\"Distribución de frecuencias de palabras\")\n",
    "plt.yscale(\"log\") \n",
    "plt.grid()"
   ]
  },
  {
   "cell_type": "code",
   "execution_count": 52,
   "metadata": {},
   "outputs": [],
   "source": [
    "min_freq = 3  # Umbral mínimo (si se pone mas agrande se eliminaran mas de la mitad de las observaciones)\n",
    "vectorizer = CountVectorizer(min_df=min_freq)\n",
    "X_filtered = vectorizer.fit_transform(train_aplanado)"
   ]
  },
  {
   "cell_type": "code",
   "execution_count": 53,
   "metadata": {},
   "outputs": [
    {
     "data": {
      "image/png": "[encoded data removed]",
      "text/plain": [
       "<Figure size 1000x500 with 1 Axes>"
      ]
     },
     "metadata": {},
     "output_type": "display_data"
    }
   ],
   "source": [
    "word_frequencies = X_filtered.sum(axis=0).A1\n",
    "sorted_freq_values = np.array(sorted(word_frequencies, reverse=True))\n",
    "\n",
    "# Creamos la gráfica\n",
    "plt.figure(figsize=(10,5))\n",
    "plt.plot(sorted_freq_values, marker=\"o\", linestyle=\"-\")\n",
    "\n",
    "# Agregamos etiquetas\n",
    "plt.xlabel(\"Palabras ordenadas por frecuencia\")\n",
    "plt.ylabel(\"Frecuencia de aparición filtarada\")\n",
    "plt.title(\"Distribución de frecuencias de palabras\")\n",
    "plt.yscale(\"log\") \n",
    "plt.grid()"
   ]
  },
  {
   "cell_type": "code",
   "execution_count": 54,
   "metadata": {},
   "outputs": [
    {
     "data": {
      "text/plain": [
       "(1400, 12399)"
      ]
     },
     "execution_count": 54,
     "metadata": {},
     "output_type": "execute_result"
    }
   ],
   "source": [
    "X_filtered.shape #train final"
   ]
  },
  {
   "cell_type": "markdown",
   "metadata": {},
   "source": [
    "# Modelos supervisados. Parte 1:"
   ]
  },
  {
   "cell_type": "markdown",
   "metadata": {},
   "source": [
    "Una vez que ya tengamos los datos preprocesados de manera que faciliten a los modelos a classificar los documentos, empezaremos a construir los modelos supervisados. \n",
    "\n",
    "Para esta práctica hemos querido comparar tres modelos supervisados significativamente diferentes entre ellos: KNN, Random Forest y SVM (Support Vector Machine). Para cada uno de los modelos se contemplará el mismo procedimiento de entrenamiento. \n",
    "\n",
    "Primero de todo, se usará la función **GridSearchCV** para encontrar los mejores parámetros que se ajusten a los datos del train, posteriormente se aplicará la función cross_validate"
   ]
  },
  {
   "cell_type": "code",
   "execution_count": 61,
   "metadata": {},
   "outputs": [],
   "source": [
    "from sklearn.model_selection import GridSearchCV, cross_validate\n",
    "from sklearn.pipeline import Pipeline\n",
    "from sklearn.feature_extraction.text import CountVectorizer\n",
    "from sklearn.neighbors import KNeighborsClassifier\n",
    "from sklearn.ensemble import RandomForestClassifier\n",
    "from sklearn.svm import SVC\n",
    "import pandas as pd\n",
    "\n",
    "# Tus datos\n",
    "X = train_aplanado\n",
    "y = train_labels\n",
    "\n",
    "# Métricas que quieres evaluar\n",
    "scoring = {\n",
    "    'accuracy': 'accuracy',\n",
    "    'f1_macro': 'f1_macro',\n",
    "    'precision_macro': 'precision_macro',\n",
    "    'recall_macro': 'recall_macro'\n",
    "}\n",
    "\n",
    "# Resultados globales\n",
    "resultados = {}\n",
    "\n",
    "# ----------- MODELO 1: KNN -----------\n",
    "pipe_knn = Pipeline([\n",
    "    ('vectorizer', CountVectorizer(min_df=3)),\n",
    "    ('clf', KNeighborsClassifier())\n",
    "])\n",
    "\n",
    "param_knn = {\n",
    "    'clf__n_neighbors': [3, 5, 7]\n",
    "}\n",
    "\n",
    "grid_knn = GridSearchCV(pipe_knn, param_grid=param_knn, cv=5, scoring='accuracy')\n",
    "grid_knn.fit(X, y)\n",
    "\n",
    "mejor_knn = grid_knn.best_estimator_\n",
    "\n",
    "# ----------- MODELO 2: Random Forest -----------\n",
    "pipe_rf = Pipeline([\n",
    "    ('vectorizer', CountVectorizer(min_df=3)),\n",
    "    ('clf', RandomForestClassifier(random_state=42))\n",
    "])\n",
    "\n",
    "param_rf = {\n",
    "    'clf__n_estimators': [50, 100],\n",
    "    'clf__max_depth': [None, 10]\n",
    "}\n",
    "\n",
    "grid_rf = GridSearchCV(pipe_rf, param_grid=param_rf, cv=5, scoring='accuracy')\n",
    "grid_rf.fit(X, y)\n",
    "mejor_rf = grid_rf.best_estimator_\n",
    "\n",
    "# ----------- MODELO 3: SVM -----------\n",
    "pipe_svm = Pipeline([\n",
    "    ('vectorizer', CountVectorizer(min_df=3)),\n",
    "    ('clf', SVC())\n",
    "])\n",
    "\n",
    "param_svm = {\n",
    "    'clf__C': [0.1, 1, 10],\n",
    "    'clf__kernel': ['linear', 'rbf']\n",
    "}\n",
    "\n",
    "grid_svm = GridSearchCV(pipe_svm, param_grid=param_svm, cv=5, scoring='accuracy')\n",
    "grid_svm.fit(X, y)\n",
    "mejor_svm = grid_svm.best_estimator_\n",
    "\n"
   ]
  },
  {
   "cell_type": "code",
   "execution_count": 64,
   "metadata": {},
   "outputs": [
    {
     "name": "stdout",
     "output_type": "stream",
     "text": [
      "🔍 Los mejores resultados de cada modelo:\n",
      "              accuracy  f1_macro  precision_macro  recall_macro\n",
      "KNN             0.5821    0.5750           0.5881        0.5821\n",
      "RandomForest    0.8036    0.8035           0.8039        0.8036\n",
      "SVM             0.8207    0.8207           0.8211        0.8207\n"
     ]
    }
   ],
   "source": [
    "\n",
    "# Diccionario de modelos a comparar\n",
    "modelos = {\n",
    "    \"KNN\": mejor_knn,\n",
    "    \"RandomForest\": mejor_rf,\n",
    "    \"SVM\": mejor_svm\n",
    "}\n",
    "\n",
    "# Guardamos resultados\n",
    "resultados = {}\n",
    "\n",
    "# mejor_knn, mejor_rf, mejor_svm son Pipelines que contienen el mejor modelo y el vectorizador. \n",
    "for nombre, modelo in modelos.items():\n",
    "    cv_result = cross_validate(modelo, X, y, cv=5, scoring=scoring)\n",
    "\n",
    "    resumen = {métrica: round(cv_result[f'test_{métrica}'].mean(), 4) for métrica in scoring}\n",
    "    resultados[nombre] = resumen\n",
    "\n",
    "\n",
    "# Mostrar como DataFrame ordenado\n",
    "df_resultados = pd.DataFrame(resultados).T\n",
    "print(\"🔍 Los mejores resultados de cada modelo:\")\n",
    "print(df_resultados)\n"
   ]
  },
  {
   "cell_type": "markdown",
   "metadata": {},
   "source": [
    "# Modelos no supervisados. Parte 2:"
   ]
  },
  {
   "cell_type": "code",
   "execution_count": null,
   "metadata": {},
   "outputs": [],
   "source": [
    "from collections import Counter\n",
    "#filtar Train_lemat\n",
    "# Calcular la frecuencia de todas las palabras en train_lemat\n",
    "word_freq = Counter()\n",
    "for doc in train_lemat:\n",
    "    word_freq.update(doc)\n",
    "\n",
    "min_freq = 5\n",
    "\n",
    "filtered_words = {word for word, freq in word_freq.items() if freq < min_freq}\n",
    "filtered_train_lemat = [\n",
    "    [word for word in doc if word not in filtered_words]\n",
    "    for doc in train_lemat]"
   ]
  },
  {
   "cell_type": "code",
   "execution_count": null,
   "metadata": {},
   "outputs": [],
   "source": [
    "filtered_words2 = {word for word, freq in word_freq.items() if freq >= min_freq}"
   ]
  },
  {
   "cell_type": "code",
   "execution_count": null,
   "metadata": {},
   "outputs": [],
   "source": [
    "print(len(filtered_words))\n",
    "print(len(filtered_words2))"
   ]
  },
  {
   "cell_type": "code",
   "execution_count": null,
   "metadata": {},
   "outputs": [],
   "source": [
    "from textserver import TextServer "
   ]
  },
  {
   "cell_type": "code",
   "execution_count": null,
   "metadata": {},
   "outputs": [],
   "source": [
    "ts = TextServer('taisiia.prymak', '', 'senses') "
   ]
  },
  {
   "cell_type": "code",
   "execution_count": null,
   "metadata": {},
   "outputs": [],
   "source": [
    "nltk.download('sentiwordnet')\n",
    "nltk.download('wordnet')\n",
    "nltk.download('omw-1.4')\n",
    "from nltk.wsd import lesk\n",
    "from nltk.corpus import wordnet as wn\n",
    "from nltk.corpus import sentiwordnet as swn"
   ]
  },
  {
   "cell_type": "code",
   "execution_count": null,
   "metadata": {},
   "outputs": [],
   "source": [
    "result = ts.senses('lively')[0][0]\n",
    "print(result)"
   ]
  },
  {
   "cell_type": "code",
   "execution_count": null,
   "metadata": {},
   "outputs": [],
   "source": [
    "print(lesk(train_lemat[8], 'lively'))\n",
    " #hay palabras que Freeling es incapaz de encpntrar su synset, pero lesk si"
   ]
  },
  {
   "cell_type": "code",
   "execution_count": null,
   "metadata": {},
   "outputs": [],
   "source": [
    "p = lesk(train_lemat[8], 'devine')\n",
    "p is None"
   ]
  },
  {
   "cell_type": "code",
   "execution_count": null,
   "metadata": {},
   "outputs": [],
   "source": [
    "def get_synsets(w, contexto):\n",
    "    try:\n",
    "        result = ts.senses(w)[0][0]\n",
    "        categ = result[4][-1]\n",
    "        id = int(result[4][0:8])\n",
    "        synset1 = wn.synset_from_pos_and_offset(categ, id)\n",
    "        print(\"From Freeling!\")\n",
    "        return synset1\n",
    "    except:\n",
    "        return lesk(contexto, w) "
   ]
  },
  {
   "cell_type": "code",
   "execution_count": null,
   "metadata": {},
   "outputs": [],
   "source": [
    "len(filtered_train_lemat[1])"
   ]
  },
  {
   "cell_type": "code",
   "execution_count": null,
   "metadata": {},
   "outputs": [],
   "source": [
    "prueba = [filtered_train_lemat[0]]"
   ]
  },
  {
   "cell_type": "markdown",
   "metadata": {},
   "source": [
    "Metodo simple:\n",
    "Clasificaci´on de polaridad:\n",
    "score(s) = poss − neg"
   ]
  },
  {
   "cell_type": "code",
   "execution_count": null,
   "metadata": {},
   "outputs": [],
   "source": [
    "etiquetas_predichas = []\n",
    "for l in prueba:\n",
    "    pos_s = 0\n",
    "    neg_s = 0\n",
    "    for w in l:\n",
    "        print(w)\n",
    "        s1 = get_synsets(w, l) \n",
    "        print(s1)\n",
    "        print()\n",
    "        if s1 is not None:\n",
    "            senti_synset = swn.senti_synset(s1.name())\n",
    "            pos_s =+ senti_synset.pos_score()\n",
    "            neg_s =+ senti_synset.neg_score()\n",
    "            print('pos_s', pos_s)\n",
    "            print('neg_s', neg_s)\n",
    "        #else: si el sinset NO esta en sentiWordNet se va a suponer que su puntuacion es 0 JUSTIFICAR \n",
    "    if pos_s - neg_s >=0: #si es neutral clasificar como positivo?????????????????????????????????????????????????????????????????????\n",
    "        print(\"pos\")\n",
    "        etiquetas_predichas.append(\"pos\")\n",
    "    else:\n",
    "        print('neg')\n",
    "        etiquetas_predichas.append(\"neg\")\n",
    "    "
   ]
  },
  {
   "cell_type": "code",
   "execution_count": null,
   "metadata": {},
   "outputs": [],
   "source": [
    "etiquetas_predichas"
   ]
  }
 ],
 "metadata": {
  "kernelspec": {
   "display_name": "Python 3",
   "language": "python",
   "name": "python3"
  },
  "language_info": {
   "codemirror_mode": {
    "name": "ipython",
    "version": 3
   },
   "file_extension": ".py",
   "mimetype": "text/x-python",
   "name": "python",
   "nbconvert_exporter": "python",
   "pygments_lexer": "ipython3",
   "version": "3.11.5"
  }
 },
 "nbformat": 4,
 "nbformat_minor": 2
}
