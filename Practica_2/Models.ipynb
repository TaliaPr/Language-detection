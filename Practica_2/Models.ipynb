{
 "cells": [
  {
   "cell_type": "markdown",
   "metadata": {},
   "source": [
    "# Pràctica 2: Classificació de la polaritat d'opinions"
   ]
  },
  {
   "cell_type": "markdown",
   "metadata": {},
   "source": [
    "\n",
    "\n",
    "Corpus ==> train, test, val\n",
    "\n",
    "NO !!! + 3 MODELS (Random forest, SVM, ) => Diferents families.\n",
    "\n",
    "COUNTVECTORIZER: (max_df, min_df) => És possible amb bigrama o trigrama, preserva una mica l'ordre de les paraules\n",
    "Matriu resultant: FILA = TEXT, COL = PARAULA\n",
    "\n",
    "0 1 1 1 0 0 1 0 1\n",
    "0 2 0 1 0 1 1 0 1\n",
    "1 0 0 1 1 0 1 1 1\n",
    "0 1 1 1 0 0 1 0 1\n",
    "\n",
    "Ineficient ==> preprocesament (eliminar paraules diferents com majúscules, tildes, extreure lemes...)\n",
    "\n",
    "Paraules no vistes al train ==> reservar posició // ignorarlas \n",
    "\n",
    "Tfidf VECTORIZER:\n",
    "Ponderar el pes dels termes massa freqüents/comunes ('movie') i no rellevants. PERO GOOD no s'hauria de disminuir la ponderació.\n",
    "\n",
    "2a PART: Model de regla (No supervisat)\n",
    "\n",
    "Train => Quins POS i amb quina ponderació.\n",
    "Synset => Desambiguació => Sentiwordnet => agregar puntuacions => MAL / BUENO"
   ]
  },
  {
   "cell_type": "markdown",
   "metadata": {},
   "source": [
    "LEMATIZAR (antes del preprocess) ==> GENERALITZAR (significat i també l'ús ) // filtrar per frec // digits //quitar stop words.\n",
    "\n",
    "DECISION TREE ==> FEATURES IMPORTANTS\n",
    "\n",
    "COMPRIMIR SCORES ==> NORMALIZAR\n",
    "\n",
    "\n",
    "PRIMERO: GREAD SEARCH CV\n",
    "DESPUÉS: CROSS - VALIDATION"
   ]
  }
 ],
 "metadata": {
  "kernelspec": {
   "display_name": "Python 3",
   "language": "python",
   "name": "python3"
  },
  "language_info": {
   "codemirror_mode": {
    "name": "ipython",
    "version": 3
   },
   "file_extension": ".py",
   "mimetype": "text/x-python",
   "name": "python",
   "nbconvert_exporter": "python",
   "pygments_lexer": "ipython3",
   "version": "3.11.5"
  }
 },
 "nbformat": 4,
 "nbformat_minor": 2
}
