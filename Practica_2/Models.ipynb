{
 "cells": [
  {
   "cell_type": "markdown",
   "metadata": {},
   "source": [
    "# Pràctica 2: Classificació de la polaritat d'opinions"
   ]
  },
  {
   "cell_type": "markdown",
   "metadata": {},
   "source": [
    "\n",
    "\n",
    "Corpus ==> train, test, val\n",
    "\n",
    "NO !!! + 3 MODELS (Random forest, SVM, ) => Diferents families.\n",
    "\n",
    "COUNTVECTORIZER: (max_df, min_df) => És possible amb bigrama o trigrama, preserva una mica l'ordre de les paraules\n",
    "Matriu resultant: FILA = TEXT, COL = PARAULA\n",
    "\n",
    "0 1 1 1 0 0 1 0 1\n",
    "0 2 0 1 0 1 1 0 1\n",
    "1 0 0 1 1 0 1 1 1\n",
    "0 1 1 1 0 0 1 0 1\n",
    "\n",
    "Ineficient ==> preprocesament (eliminar paraules diferents com majúscules, tildes, extreure lemes...)\n",
    "\n",
    "Paraules no vistes al train ==> reservar posició // ignorarlas \n",
    "\n",
    "Tfidf VECTORIZER:\n",
    "Ponderar el pes dels termes massa freqüents/comunes ('movie') i no rellevants. PERO GOOD no s'hauria de disminuir la ponderació.\n",
    "\n",
    "2a PART: Model de regla (No supervisat)\n",
    "\n",
    "Train => Quins POS i amb quina ponderació.\n",
    "Synset => Desambiguació => Sentiwordnet => agregar puntuacions => MAL / BUENO"
   ]
  },
  {
   "cell_type": "code",
   "execution_count": null,
   "metadata": {},
   "outputs": [],
   "source": [
    "import nltk\n",
    "from nltk.corpus import movie_reviews as mr\n",
    "\n",
    "## Importar els models supervisats que utilitzarem del mòdul sklearn\n",
    "from sklearn.feature_extraction.text import CountVectorizer\n",
    "from sklearn.feature_extraction.text import TfidfVectorizer\n",
    "from sklearn.neighbors import KNeighborsClassifier\n",
    "from sklearn.svm import SVC\n",
    "from sklearn.model_selection import train_test_split\n",
    "from sklearn.ensemble import RandomForestClassifier\n",
    "from sklearn.metrics import accuracy_score\n",
    "from \n"
   ]
  },
  {
   "cell_type": "markdown",
   "metadata": {},
   "source": [
    "LEMATIZAR (antes del preprocess) ==> GENERALITZAR (significat i també l'ús ) // filtrar per frec // digits //quitar stop words.\n",
    "DECISION TREE ==> FEATURES IMPORTANTS\n",
    "\n",
    "COMPRIMIR SCORES ==> NORMALIZAR\n",
    "\n",
    "\n",
    "PRIMERO: GREAD SEARCH CV\n",
    "DESPUÉS: CROSS - VALIDATION"
   ]
  },
  {
   "cell_type": "code",
   "execution_count": null,
   "metadata": {},
   "outputs": [],
   "source": [
    "for i in mr.fileids('pos')[:2]:\n",
    "    print(i)\n",
    "    print(mr.raw(i))\n",
    "    "
   ]
  },
  {
   "cell_type": "code",
   "execution_count": null,
   "metadata": {},
   "outputs": [],
   "source": [
    "opinion = mr.words('pos/cv000_29590.txt')"
   ]
  },
  {
   "cell_type": "code",
   "execution_count": null,
   "metadata": {},
   "outputs": [],
   "source": [
    "X_train, X_test, y_train, y_test = train_test_split(X, y, test_size=0.2, random_state=42)"
   ]
  },
  {
   "cell_type": "code",
   "execution_count": null,
   "metadata": {},
   "outputs": [],
   "source": [
    "X, y = iris.data, iris.target\n",
    "\n",
    "# Crear y entrenar el modelo KNN\n",
    "knn = KNeighborsClassifier(n_neighbors=3)\n",
    "knn.fit(X_train, y_train)\n",
    "\n",
    "# Predecir y evaluar\n",
    "y_pred = knn.predict(X_test)\n",
    "print(f\"Precisión: {accuracy_score(y_test, y_pred):.2f}\")\n"
   ]
  },
  {
   "cell_type": "code",
   "execution_count": null,
   "metadata": {},
   "outputs": [],
   "source": [
    "# Cargar les opinions\n",
    "opinions\n",
    "X, y = opinions.opinions, opinions.target\n",
    "\n",
    "# Dividir en conjunto de entrenamiento y prueba\n",
    "\n",
    "# Crear el modelo Random Forest\n",
    "rf = RandomForestClassifier(n_estimators=100, random_state=42)\n",
    "\n",
    "# Entrenar el modelo\n",
    "rf.fit(X_train, y_train)\n",
    "\n",
    "# Hacer predicciones\n",
    "y_pred = rf.predict(X_test)\n",
    "\n",
    "# Evaluar precisión\n",
    "accuracy = accuracy_score(y_test, y_pred)\n",
    "print(f'Precisión del modelo: {accuracy:.2f}')\n"
   ]
  },
  {
   "cell_type": "code",
   "execution_count": null,
   "metadata": {},
   "outputs": [],
   "source": [
    "\n",
    "X, y = iris.data, iris.target\n",
    "\n",
    "# Crear el modelo SVM con kernel lineal\n",
    "svm_clf = SVC(kernel='linear', C=1.0, random_state=42)\n",
    "\n",
    "# Entrenar el modelo\n",
    "svm_clf.fit(X_train, y_train)\n",
    "\n",
    "# Hacer predicciones\n",
    "y_pred = svm_clf.predict(X_test)\n",
    "\n",
    "# Evaluar el modelo\n",
    "accuracy = accuracy_score(y_test, y_pred)\n",
    "print(f'Precisión del modelo SVM: {accuracy:.2f}')\n"
   ]
  }
 ],
 "metadata": {
  "kernelspec": {
   "display_name": "Python 3",
   "language": "python",
   "name": "python3"
  },
  "language_info": {
   "codemirror_mode": {
    "name": "ipython",
    "version": 3
   },
   "file_extension": ".py",
   "mimetype": "text/x-python",
   "name": "python",
   "nbconvert_exporter": "python",
   "pygments_lexer": "ipython3",
   "version": "3.11.5"
  }
 },
 "nbformat": 4,
 "nbformat_minor": 2
}
