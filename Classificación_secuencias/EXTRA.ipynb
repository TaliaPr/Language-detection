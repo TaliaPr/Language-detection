{
 "cells": [
  {
   "cell_type": "markdown",
   "id": "c59bf4bf",
   "metadata": {},
   "source": [
    "# WORKING WITH THE CADEC CORPUS"
   ]
  },
  {
   "cell_type": "code",
   "execution_count": null,
   "id": "593e320a",
   "metadata": {},
   "outputs": [],
   "source": [
    "## ANALISIS EXPLORATORIO DE DATOS\n",
    "# Importar librerías\n",
    "import pandas as pd\n",
    "import numpy as np\n",
    "import matplotlib.pyplot as plt\n",
    "import seaborn as sns\n",
    "from example.ipynb import *"
   ]
  }
 ],
 "metadata": {
  "language_info": {
   "name": "python"
  }
 },
 "nbformat": 4,
 "nbformat_minor": 5
}
