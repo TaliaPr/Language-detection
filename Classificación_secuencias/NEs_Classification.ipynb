{
 "cells": [
  {
   "cell_type": "markdown",
   "metadata": {},
   "source": [
    "# Práctica de Reconocimiento de Entidades Nombradas (NER)\n",
    "\n",
    "Un modelo para español y nerlandes ==> comparar features\n",
    "\n",
    "feature_functions ==> manualment functions\n",
    "\n",
    "Codificacions: BIO, BIOW(BIOS), IO (criteri de decodificació?), BIOE, BIOES, BIOE+ (diferent Os, O before person)\n",
    "\n",
    "MÉS ETIQUETA (MÉS PROBABILITATS DE DISTRIBUCIÓ) ==> MENYS MOSTRA PER ETIQUETA (PITJOR)       PUNT EQUILIBRI??? => COMENTAR\n",
    "\n",
    "Anàlisis ==> com afceta els features y les codificacions\n",
    "\n",
    "Gazetters ==> LINE/LIME\n",
    "\n",
    "get_features(O, t) == f(xt, xt-1, t, O)\n",
    "\n",
    "Afegir context al feature_function = token anterior o posterior (WORD_-1_at), (WORD_-2_works)\n",
    "\n",
    "MODIFICAR LA FUNCIÓ FONT =====> ANALITZAR DES DE 0 (també traient els features originals)\n",
    "\n",
    "PASAR COM A PARÀMETRE DE TOKENS (TOKEN, POS).\n",
    "\n",
    "1. BIO ==> IO (treure B), BIOS (entre dos O = S)\n",
    "\n",
    "2. Descodificar etiquetas a entitats per AVALUACIÓ (sets reals intersecció sets predicció), millor sets(inici, final, classe)"
   ]
  },
  {
   "cell_type": "code",
   "execution_count": 4,
   "metadata": {},
   "outputs": [
    {
     "name": "stdout",
     "output_type": "stream",
     "text": [
      "Collecting python-crfsuite\n",
      "  Downloading python_crfsuite-0.9.11-cp311-cp311-win_amd64.whl.metadata (4.4 kB)\n",
      "Downloading python_crfsuite-0.9.11-cp311-cp311-win_amd64.whl (301 kB)\n",
      "Installing collected packages: python-crfsuite\n",
      "Successfully installed python-crfsuite-0.9.11\n"
     ]
    },
    {
     "name": "stderr",
     "output_type": "stream",
     "text": [
      "\n",
      "[notice] A new release of pip is available: 24.2 -> 25.0.1\n",
      "[notice] To update, run: python.exe -m pip install --upgrade pip\n"
     ]
    }
   ],
   "source": [
    "!pip install python-crfsuite"
   ]
  },
  {
   "cell_type": "code",
   "execution_count": 2,
   "metadata": {},
   "outputs": [
    {
     "name": "stderr",
     "output_type": "stream",
     "text": [
      "[nltk_data] Downloading package maxent_ne_chunker to\n",
      "[nltk_data]     C:\\Users\\jiahu\\AppData\\Roaming\\nltk_data...\n",
      "[nltk_data]   Unzipping chunkers\\maxent_ne_chunker.zip.\n"
     ]
    },
    {
     "data": {
      "text/plain": [
       "True"
      ]
     },
     "execution_count": 2,
     "metadata": {},
     "output_type": "execute_result"
    }
   ],
   "source": [
    "import nltk\n",
    "nltk.download('maxent_ne_chunker')"
   ]
  }
 ],
 "metadata": {
  "kernelspec": {
   "display_name": "Python 3",
   "language": "python",
   "name": "python3"
  },
  "language_info": {
   "codemirror_mode": {
    "name": "ipython",
    "version": 3
   },
   "file_extension": ".py",
   "mimetype": "text/x-python",
   "name": "python",
   "nbconvert_exporter": "python",
   "pygments_lexer": "ipython3",
   "version": "3.11.5"
  }
 },
 "nbformat": 4,
 "nbformat_minor": 2
}
