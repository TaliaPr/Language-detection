{
 "cells": [
  {
   "cell_type": "markdown",
   "id": "c59bf4bf",
   "metadata": {},
   "source": [
    "# AVALUACIÓN CON TEXTO REAL"
   ]
  },
  {
   "cell_type": "code",
   "execution_count": null,
   "id": "593e320a",
   "metadata": {},
   "outputs": [],
   "source": [
    "## ANALISIS EXPLORATORIO DE DATOS\n",
    "# Importar librerías\n",
    "import pandas as pd\n",
    "import numpy as np\n",
    "import matplotlib.pyplot as plt\n",
    "import seaborn as sns\n",
    "from Funciones import *"
   ]
  },
  {
   "cell_type": "code",
   "execution_count": null,
   "id": "41ed1a8c",
   "metadata": {},
   "outputs": [],
   "source": [
    "from datasets import load_dataset\n",
    "\n",
    "# Puedes cambiar \"es\" por \"en\", \"fr\", etc.\n",
    "dataset = load_dataset(\"wikiann\", \"es\")\n",
    "print(dataset[\"train\"][0])\n"
   ]
  }
 ],
 "metadata": {
  "language_info": {
   "name": "python"
  }
 },
 "nbformat": 4,
 "nbformat_minor": 5
}
